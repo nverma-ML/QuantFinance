{
 "cells": [
  {
   "cell_type": "code",
   "execution_count": 4,
   "id": "2087df12",
   "metadata": {},
   "outputs": [],
   "source": [
    "from arch import arch_model\n",
    "import numpy as np\n",
    "from statsmodels.tsa.ar_model import AutoReg"
   ]
  },
  {
   "cell_type": "code",
   "execution_count": 5,
   "id": "257db869",
   "metadata": {},
   "outputs": [],
   "source": [
    "class __FinTimeSeries__ :\n",
    "                     \n",
    "    def __init__(self, fin_time_series):\n",
    "        self.fin_time_series=fin_time_series\n",
    "        \n",
    "    def fitGARCH(self):\n",
    "        garch_model = arch_model(self.fin_time_series, vol='GARCH', p=1, q=1)\n",
    "        self.garch_fit=garch_model.fit()\n",
    "        self.conditional_vol=self.garch_fit.conditional_volatility\n",
    "        self.main_residuals=self.garch_fit.resid\n",
    "        \n",
    "    def fitARModel(self, lag):\n",
    "        arModel = AutoReg(self.fin_time_serie, lags=lag)\n",
    "        arModel.fit()\n",
    "        arModel.ar_lags\n",
    "              \n",
    "    def get_garch_params(self):\n",
    "        return self.garch_fit.params\n",
    "            \n",
    "    def get_conditional_vol(self):\n",
    "        return self.conditional_vol\n",
    "    \n",
    "    def get_main_residuals(self):\n",
    "        return self.main_residuals\n",
    "\n",
    "    def get_iid_residuals(self):\n",
    "        return np.divide(self.main_residuals, self.conditional_vol)\n",
    "    \n",
    "    def print_ts(self):\n",
    "        print(self.fin_time_series)"
   ]
  }
 ],
 "metadata": {
  "kernelspec": {
   "display_name": "Python 3 (ipykernel)",
   "language": "python",
   "name": "python3"
  },
  "language_info": {
   "codemirror_mode": {
    "name": "ipython",
    "version": 3
   },
   "file_extension": ".py",
   "mimetype": "text/x-python",
   "name": "python",
   "nbconvert_exporter": "python",
   "pygments_lexer": "ipython3",
   "version": "3.12.4"
  }
 },
 "nbformat": 4,
 "nbformat_minor": 5
}
