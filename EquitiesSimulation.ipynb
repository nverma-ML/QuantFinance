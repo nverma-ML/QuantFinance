{
 "cells": [
  {
   "cell_type": "code",
   "execution_count": 1,
   "id": "5232c09c",
   "metadata": {},
   "outputs": [
    {
     "name": "stdout",
     "output_type": "stream",
     "text": [
      "importing Jupyter notebook from FinTimeSeries.ipynb\n",
      "importing Jupyter notebook from fit_distribution_MLE.ipynb\n"
     ]
    }
   ],
   "source": [
    "#Import important libraries\n",
    "import numpy as np\n",
    "import pandas as pd\n",
    "import seaborn as sbn\n",
    "import import_ipynb\n",
    "import FinTimeSeries as fst #Notebook with GARCH model\n",
    "import fit_distribution_MLE as dist_MLE"
   ]
  },
  {
   "cell_type": "code",
   "execution_count": 2,
   "id": "497145c1",
   "metadata": {},
   "outputs": [],
   "source": [
    "#Suppress warnings\n",
    "import warnings\n",
    "warnings.filterwarnings('ignore')"
   ]
  },
  {
   "cell_type": "code",
   "execution_count": 3,
   "id": "054ddbc3",
   "metadata": {},
   "outputs": [],
   "source": [
    "#Read equities data\n",
    "amzn = pd.read_csv('AMZN.csv')\n",
    "amd = pd.read_csv('AMD.csv')\n",
    "nvda = pd.read_csv('NVDA.csv')\n"
   ]
  },
  {
   "cell_type": "code",
   "execution_count": 4,
   "id": "c800eb7f-48fd-47a2-87a1-f6fb212bdb60",
   "metadata": {},
   "outputs": [],
   "source": [
    "#Get the common dates/indexes between the equities\n",
    "amzn_dates=pd.to_datetime(amzn['Date'])\n",
    "amd_dates=pd.to_datetime(amd['Date'])\n",
    "nvda_dates=pd.to_datetime(nvda['Date'])"
   ]
  },
  {
   "cell_type": "code",
   "execution_count": 5,
   "id": "e777ab63-742a-4fed-9074-6fad9319ab3c",
   "metadata": {},
   "outputs": [
    {
     "data": {
      "text/plain": [
       "pandas._libs.tslibs.timestamps.Timestamp"
      ]
     },
     "execution_count": 5,
     "metadata": {},
     "output_type": "execute_result"
    }
   ],
   "source": [
    "type(amzn_dates[0])"
   ]
  },
  {
   "cell_type": "code",
   "execution_count": 6,
   "id": "5a2331d6",
   "metadata": {},
   "outputs": [],
   "source": [
    "#Convert prices into log-returns\n",
    "amzn_rets=np.diff(np.log(amzn['Adj Close']))\n",
    "amd_rets=np.diff(np.log(amd['Adj Close']))\n",
    "nvda_rets=np.diff(np.log(nvda['Adj Close']))                 "
   ]
  },
  {
   "cell_type": "code",
   "execution_count": 7,
   "id": "bb894e6f",
   "metadata": {},
   "outputs": [
    {
     "data": {
      "text/plain": [
       "array([-0.00107453,  0.00122797, -0.01561448,  0.01100188, -0.02063054,\n",
       "        0.01289535,  0.01556395,  0.02640666,  0.00282542, -0.00835074])"
      ]
     },
     "execution_count": 7,
     "metadata": {},
     "output_type": "execute_result"
    }
   ],
   "source": [
    "amzn_rets[0:10]"
   ]
  },
  {
   "cell_type": "code",
   "execution_count": 8,
   "id": "4d1624e3",
   "metadata": {},
   "outputs": [
    {
     "data": {
      "text/plain": [
       "array([ 0.01662856, -0.01627753, -0.00413309, -0.00273554,  0.00361636,\n",
       "       -0.02009852,  0.02886435,  0.01162699,  0.00017255,  0.02031999])"
      ]
     },
     "execution_count": 8,
     "metadata": {},
     "output_type": "execute_result"
    }
   ],
   "source": [
    "amd_rets[0:10]"
   ]
  },
  {
   "cell_type": "code",
   "execution_count": 9,
   "id": "45825e4e",
   "metadata": {},
   "outputs": [
    {
     "data": {
      "text/plain": [
       "array([ 0.00262053, -0.0022659 , -0.0050699 ,  0.00945547, -0.00762839,\n",
       "        0.00532021,  0.03469351,  0.0461814 , -0.01111048,  0.02158247])"
      ]
     },
     "execution_count": 9,
     "metadata": {},
     "output_type": "execute_result"
    }
   ],
   "source": [
    "nvda_rets[0:10]"
   ]
  },
  {
   "cell_type": "code",
   "execution_count": 10,
   "id": "b2a96757",
   "metadata": {},
   "outputs": [],
   "source": [
    "#Create financial time series objects from the log-returns\n",
    "amzn_ts=fst.__FinTimeSeries__(amzn_rets)\n",
    "amd_ts=fst.__FinTimeSeries__(amd_rets)\n",
    "nvda_ts=fst.__FinTimeSeries__(nvda_rets)"
   ]
  },
  {
   "cell_type": "code",
   "execution_count": 11,
   "id": "e559cf58",
   "metadata": {},
   "outputs": [
    {
     "name": "stdout",
     "output_type": "stream",
     "text": [
      "Iteration:      1,   Func. Count:      6,   Neg. LLF: 3094018.808394216\n",
      "Iteration:      2,   Func. Count:     17,   Neg. LLF: 817052.2125003104\n",
      "Iteration:      3,   Func. Count:     28,   Neg. LLF: 22134.245858977745\n",
      "Iteration:      4,   Func. Count:     38,   Neg. LLF: -663.7040220405447\n",
      "Optimization terminated successfully    (Exit mode 0)\n",
      "            Current function value: -663.7040214725957\n",
      "            Iterations: 8\n",
      "            Function evaluations: 38\n",
      "            Gradient evaluations: 4\n",
      "Iteration:      1,   Func. Count:      6,   Neg. LLF: 816254.5916286993\n",
      "Iteration:      2,   Func. Count:     17,   Neg. LLF: 175.66727494045716\n",
      "Iteration:      3,   Func. Count:     26,   Neg. LLF: -535.865107677287\n",
      "Iteration:      4,   Func. Count:     32,   Neg. LLF: -536.2156565451132\n",
      "Iteration:      5,   Func. Count:     38,   Neg. LLF: -535.9296894650615\n",
      "Iteration:      6,   Func. Count:     44,   Neg. LLF: -535.8289107123782\n",
      "Iteration:      7,   Func. Count:     52,   Neg. LLF: -522.9030625557187\n",
      "Iteration:      8,   Func. Count:     58,   Neg. LLF: 3855886.0238519143\n",
      "Iteration:      9,   Func. Count:     69,   Neg. LLF: 309200847.9004779\n",
      "Iteration:     10,   Func. Count:     78,   Neg. LLF: -537.9420165758186\n",
      "Iteration:     11,   Func. Count:     83,   Neg. LLF: -536.7586036567368\n",
      "Iteration:     12,   Func. Count:     89,   Neg. LLF: 462.55097274411173\n",
      "Iteration:     13,   Func. Count:     95,   Neg. LLF: -538.0156186451507\n",
      "Optimization terminated successfully    (Exit mode 0)\n",
      "            Current function value: -538.0156196731983\n",
      "            Iterations: 17\n",
      "            Function evaluations: 95\n",
      "            Gradient evaluations: 13\n",
      "Iteration:      1,   Func. Count:      6,   Neg. LLF: 2714947.311967622\n",
      "Iteration:      2,   Func. Count:     17,   Neg. LLF: -344.2360936092326\n",
      "Iteration:      3,   Func. Count:     26,   Neg. LLF: -412.96256583193787\n",
      "Iteration:      4,   Func. Count:     33,   Neg. LLF: -541.3669066590496\n",
      "Iteration:      5,   Func. Count:     39,   Neg. LLF: -541.2386466756137\n",
      "Iteration:      6,   Func. Count:     46,   Neg. LLF: -541.7187223672171\n",
      "Iteration:      7,   Func. Count:     51,   Neg. LLF: -541.7187291561243\n",
      "Iteration:      8,   Func. Count:     55,   Neg. LLF: -541.7187291561042\n",
      "Optimization terminated successfully    (Exit mode 0)\n",
      "            Current function value: -541.7187291561243\n",
      "            Iterations: 8\n",
      "            Function evaluations: 55\n",
      "            Gradient evaluations: 8\n"
     ]
    }
   ],
   "source": [
    "#Fit econometrics models on each series\n",
    "amzn_ts.fitGARCH()\n",
    "amd_ts.fitGARCH()\n",
    "nvda_ts.fitGARCH()"
   ]
  },
  {
   "cell_type": "code",
   "execution_count": 12,
   "id": "7d27d871",
   "metadata": {},
   "outputs": [],
   "source": [
    "#Get fitted parameters\n",
    "amzn_params=amzn_ts.get_garch_params()\n",
    "amd_params=amd_ts.get_garch_params()\n",
    "nvda_params=nvda_ts.get_garch_params()"
   ]
  },
  {
   "cell_type": "code",
   "execution_count": 2,
   "id": "4858825e",
   "metadata": {},
   "outputs": [
    {
     "ename": "NameError",
     "evalue": "name 'amzn_params' is not defined",
     "output_type": "error",
     "traceback": [
      "\u001b[1;31m---------------------------------------------------------------------------\u001b[0m",
      "\u001b[1;31mNameError\u001b[0m                                 Traceback (most recent call last)",
      "Cell \u001b[1;32mIn[2], line 1\u001b[0m\n\u001b[1;32m----> 1\u001b[0m \u001b[38;5;28mprint\u001b[39m(amzn_params)\n\u001b[0;32m      2\u001b[0m \u001b[38;5;28mprint\u001b[39m(amd_params)\n\u001b[0;32m      3\u001b[0m \u001b[38;5;28mprint\u001b[39m(nvda_params)\n",
      "\u001b[1;31mNameError\u001b[0m: name 'amzn_params' is not defined"
     ]
    }
   ],
   "source": [
    "print(amzn_params)\n",
    "print(amd_params)\n",
    "print(nvda_params)"
   ]
  },
  {
   "cell_type": "code",
   "execution_count": 14,
   "id": "c7b5c9cc",
   "metadata": {},
   "outputs": [],
   "source": [
    "#Get iid residuals for each series\n",
    "amzn_iid_residuals = amzn_ts.get_iid_residuals()\n",
    "amd_iid_residuals=amd_ts.get_iid_residuals()\n",
    "nvda_iid_residuals=nvda_ts.get_iid_residuals()"
   ]
  },
  {
   "cell_type": "code",
   "execution_count": 15,
   "id": "1d42dca2",
   "metadata": {},
   "outputs": [
    {
     "name": "stdout",
     "output_type": "stream",
     "text": [
      "[-0.1388868  -0.01371489 -1.16573943  0.61847497 -1.50427369  0.68568298\n",
      "  0.88998563  1.59069933  0.0760275  -0.60826853]\n"
     ]
    }
   ],
   "source": [
    "print(amzn_iid_residuals[0:10])"
   ]
  },
  {
   "cell_type": "code",
   "execution_count": 16,
   "id": "89b1ae14",
   "metadata": {},
   "outputs": [
    {
     "name": "stdout",
     "output_type": "stream",
     "text": [
      "[ 0.66917653 -0.75334431 -0.22869408 -0.16750862  0.09868772 -0.88067664\n",
      "  1.12941845  0.42095992 -0.04321933  0.76165665]\n"
     ]
    }
   ],
   "source": [
    "print(amd_iid_residuals[0:10])"
   ]
  },
  {
   "cell_type": "code",
   "execution_count": 17,
   "id": "1c0ed96d",
   "metadata": {},
   "outputs": [
    {
     "name": "stdout",
     "output_type": "stream",
     "text": [
      "[-0.10269588 -0.30933558 -0.42813839  0.18199591 -0.53761977  0.00884839\n",
      "  1.24790366  1.56942376 -0.54791974  0.59367044]\n"
     ]
    }
   ],
   "source": [
    "print(nvda_iid_residuals[0:10])"
   ]
  },
  {
   "cell_type": "code",
   "execution_count": 18,
   "id": "e48cc5e8",
   "metadata": {},
   "outputs": [
    {
     "data": {
      "text/plain": [
       "(-0.015285030826915237, 1.0499940013377416)"
      ]
     },
     "execution_count": 18,
     "metadata": {},
     "output_type": "execute_result"
    }
   ],
   "source": [
    "np.mean(amzn_iid_residuals), np.std(amzn_iid_residuals)"
   ]
  },
  {
   "cell_type": "code",
   "execution_count": 19,
   "id": "b3713744",
   "metadata": {},
   "outputs": [
    {
     "data": {
      "text/plain": [
       "(0.004067876792654303, 0.9795807785171314)"
      ]
     },
     "execution_count": 19,
     "metadata": {},
     "output_type": "execute_result"
    }
   ],
   "source": [
    "np.mean(amd_iid_residuals), np.std(amd_iid_residuals)"
   ]
  },
  {
   "cell_type": "code",
   "execution_count": 20,
   "id": "6e9ea053",
   "metadata": {},
   "outputs": [
    {
     "data": {
      "text/plain": [
       "(-0.03671067312977894, 0.9973817462533238)"
      ]
     },
     "execution_count": 20,
     "metadata": {},
     "output_type": "execute_result"
    }
   ],
   "source": [
    "np.mean(nvda_iid_residuals), np.std(nvda_iid_residuals)"
   ]
  },
  {
   "cell_type": "code",
   "execution_count": 23,
   "id": "2430e0f1",
   "metadata": {},
   "outputs": [
    {
     "data": {
      "text/plain": [
       "<Axes: >"
      ]
     },
     "execution_count": 23,
     "metadata": {},
     "output_type": "execute_result"
    },
    {
     "data": {
      "image/png": "[encoded data removed]",
      "text/plain": [
       "<Figure size 640x480 with 1 Axes>"
      ]
     },
     "metadata": {},
     "output_type": "display_data"
    }
   ],
   "source": [
    "sbn.histplot(x=amzn_iid_residuals[0:-1]**2, y=amzn_iid_residuals[1:]**2)"
   ]
  },
  {
   "cell_type": "code",
   "execution_count": 36,
   "id": "1d143810",
   "metadata": {},
   "outputs": [
    {
     "data": {
      "text/plain": [
       "(250,)"
      ]
     },
     "execution_count": 36,
     "metadata": {},
     "output_type": "execute_result"
    }
   ],
   "source": [
    "amzn_iid_residuals.shape"
   ]
  },
  {
   "cell_type": "code",
   "execution_count": 41,
   "id": "89df8bb0",
   "metadata": {},
   "outputs": [
    {
     "name": "stdout",
     "output_type": "stream",
     "text": [
      "250\n"
     ]
    }
   ],
   "source": [
    "#Try fitting different distributions on iid residuals\n",
    "combined_iid_residuals=np.zeros((3, len(amd_iid_residuals)))\n",
    "combined_iid_residuals[0][:]=amzn_iid_residuals\n",
    "combined_iid_residuals[1][:]=amd_iid_residuals\n",
    "combined_iid_residuals[2][:]=nvda_iid_residuals"
   ]
  },
  {
   "cell_type": "code",
   "execution_count": 43,
   "id": "1390f37b",
   "metadata": {},
   "outputs": [
    {
     "ename": "NameError",
     "evalue": "name 'ret' is not defined",
     "output_type": "error",
     "traceback": [
      "\u001b[1;31m---------------------------------------------------------------------------\u001b[0m",
      "\u001b[1;31mNameError\u001b[0m                                 Traceback (most recent call last)",
      "Cell \u001b[1;32mIn[43], line 1\u001b[0m\n\u001b[1;32m----> 1\u001b[0m fitted_dofs\u001b[38;5;241m=\u001b[39mdist_MLE\u001b[38;5;241m.\u001b[39mfit_tdist_logMLE(combined_iid_residuals, np\u001b[38;5;241m.\u001b[39marange(\u001b[38;5;241m0\u001b[39m,\u001b[38;5;241m31\u001b[39m))\n",
      "File \u001b[1;32m<string>:20\u001b[0m, in \u001b[0;36mfit_tdist_logMLE\u001b[1;34m(input_ts, dof)\u001b[0m\n",
      "\u001b[1;31mNameError\u001b[0m: name 'ret' is not defined"
     ]
    }
   ],
   "source": [
    "fitted_dofs=dist_MLE.fit_tdist_logMLE(combined_iid_residuals, np.arange(0,31))"
   ]
  },
  {
   "cell_type": "code",
   "execution_count": null,
   "id": "466fa190",
   "metadata": {},
   "outputs": [],
   "source": []
  }
 ],
 "metadata": {
  "kernelspec": {
   "display_name": "Python 3 (ipykernel)",
   "language": "python",
   "name": "python3"
  },
  "language_info": {
   "codemirror_mode": {
    "name": "ipython",
    "version": 3
   },
   "file_extension": ".py",
   "mimetype": "text/x-python",
   "name": "python",
   "nbconvert_exporter": "python",
   "pygments_lexer": "ipython3",
   "version": "3.11.5"
  }
 },
 "nbformat": 4,
 "nbformat_minor": 5
}
