{
 "cells": [
  {
   "cell_type": "code",
   "execution_count": 36,
   "id": "6a692ee3",
   "metadata": {},
   "outputs": [],
   "source": [
    "#Import basic libraries\n",
    "import numpy as np\n",
    "import pandas as pd\n",
    "from sklearn.decomposition import PCA\n",
    "from statsmodels.graphics import tsaplots\n",
    "import seaborn as sbn\n",
    "import matplotlib.pyplot as pyplot"
   ]
  },
  {
   "cell_type": "code",
   "execution_count": 37,
   "id": "40f1b721",
   "metadata": {},
   "outputs": [],
   "source": [
    "#Read treasury yield history\n",
    "yield_hist = pd.read_csv('TreasuryYield.csv')"
   ]
  },
  {
   "cell_type": "code",
   "execution_count": 38,
   "id": "aa9ff0f0",
   "metadata": {},
   "outputs": [
    {
     "data": {
      "text/html": [
       "<div>\n",
       "<style scoped>\n",
       "    .dataframe tbody tr th:only-of-type {\n",
       "        vertical-align: middle;\n",
       "    }\n",
       "\n",
       "    .dataframe tbody tr th {\n",
       "        vertical-align: top;\n",
       "    }\n",
       "\n",
       "    .dataframe thead th {\n",
       "        text-align: right;\n",
       "    }\n",
       "</style>\n",
       "<table border=\"1\" class=\"dataframe\">\n",
       "  <thead>\n",
       "    <tr style=\"text-align: right;\">\n",
       "      <th></th>\n",
       "      <th>Date</th>\n",
       "      <th>1 Mo</th>\n",
       "      <th>2 Mo</th>\n",
       "      <th>3 Mo</th>\n",
       "      <th>4 Mo</th>\n",
       "      <th>6 Mo</th>\n",
       "      <th>1 Yr</th>\n",
       "      <th>2 Yr</th>\n",
       "      <th>3 Yr</th>\n",
       "      <th>5 Yr</th>\n",
       "      <th>7 Yr</th>\n",
       "      <th>10 Yr</th>\n",
       "      <th>20 Yr</th>\n",
       "      <th>30 Yr</th>\n",
       "    </tr>\n",
       "  </thead>\n",
       "  <tbody>\n",
       "    <tr>\n",
       "      <th>158</th>\n",
       "      <td>2/9/2024</td>\n",
       "      <td>5.49</td>\n",
       "      <td>5.51</td>\n",
       "      <td>5.44</td>\n",
       "      <td>5.43</td>\n",
       "      <td>5.26</td>\n",
       "      <td>4.86</td>\n",
       "      <td>4.48</td>\n",
       "      <td>4.25</td>\n",
       "      <td>4.14</td>\n",
       "      <td>4.17</td>\n",
       "      <td>4.17</td>\n",
       "      <td>4.48</td>\n",
       "      <td>4.37</td>\n",
       "    </tr>\n",
       "    <tr>\n",
       "      <th>76</th>\n",
       "      <td>10/12/2023</td>\n",
       "      <td>5.61</td>\n",
       "      <td>5.59</td>\n",
       "      <td>5.63</td>\n",
       "      <td>5.63</td>\n",
       "      <td>5.58</td>\n",
       "      <td>5.43</td>\n",
       "      <td>5.06</td>\n",
       "      <td>4.82</td>\n",
       "      <td>4.69</td>\n",
       "      <td>4.73</td>\n",
       "      <td>4.70</td>\n",
       "      <td>5.05</td>\n",
       "      <td>4.86</td>\n",
       "    </tr>\n",
       "    <tr>\n",
       "      <th>119</th>\n",
       "      <td>12/13/2023</td>\n",
       "      <td>5.52</td>\n",
       "      <td>5.52</td>\n",
       "      <td>5.44</td>\n",
       "      <td>5.45</td>\n",
       "      <td>5.33</td>\n",
       "      <td>4.94</td>\n",
       "      <td>4.46</td>\n",
       "      <td>4.18</td>\n",
       "      <td>4.00</td>\n",
       "      <td>4.04</td>\n",
       "      <td>4.04</td>\n",
       "      <td>4.36</td>\n",
       "      <td>4.19</td>\n",
       "    </tr>\n",
       "    <tr>\n",
       "      <th>173</th>\n",
       "      <td>3/4/2024</td>\n",
       "      <td>5.51</td>\n",
       "      <td>5.49</td>\n",
       "      <td>5.48</td>\n",
       "      <td>5.42</td>\n",
       "      <td>5.37</td>\n",
       "      <td>4.98</td>\n",
       "      <td>4.61</td>\n",
       "      <td>4.39</td>\n",
       "      <td>4.21</td>\n",
       "      <td>4.23</td>\n",
       "      <td>4.22</td>\n",
       "      <td>4.48</td>\n",
       "      <td>4.36</td>\n",
       "    </tr>\n",
       "    <tr>\n",
       "      <th>72</th>\n",
       "      <td>10/5/2023</td>\n",
       "      <td>5.57</td>\n",
       "      <td>5.59</td>\n",
       "      <td>5.61</td>\n",
       "      <td>5.62</td>\n",
       "      <td>5.56</td>\n",
       "      <td>5.39</td>\n",
       "      <td>5.03</td>\n",
       "      <td>4.82</td>\n",
       "      <td>4.68</td>\n",
       "      <td>4.73</td>\n",
       "      <td>4.72</td>\n",
       "      <td>5.06</td>\n",
       "      <td>4.89</td>\n",
       "    </tr>\n",
       "  </tbody>\n",
       "</table>\n",
       "</div>"
      ],
      "text/plain": [
       "           Date  1 Mo  2 Mo  3 Mo  4 Mo  6 Mo  1 Yr  2 Yr  3 Yr  5 Yr  7 Yr  \\\n",
       "158    2/9/2024  5.49  5.51  5.44  5.43  5.26  4.86  4.48  4.25  4.14  4.17   \n",
       "76   10/12/2023  5.61  5.59  5.63  5.63  5.58  5.43  5.06  4.82  4.69  4.73   \n",
       "119  12/13/2023  5.52  5.52  5.44  5.45  5.33  4.94  4.46  4.18  4.00  4.04   \n",
       "173    3/4/2024  5.51  5.49  5.48  5.42  5.37  4.98  4.61  4.39  4.21  4.23   \n",
       "72    10/5/2023  5.57  5.59  5.61  5.62  5.56  5.39  5.03  4.82  4.68  4.73   \n",
       "\n",
       "     10 Yr  20 Yr  30 Yr  \n",
       "158   4.17   4.48   4.37  \n",
       "76    4.70   5.05   4.86  \n",
       "119   4.04   4.36   4.19  \n",
       "173   4.22   4.48   4.36  \n",
       "72    4.72   5.06   4.89  "
      ]
     },
     "execution_count": 38,
     "metadata": {},
     "output_type": "execute_result"
    }
   ],
   "source": [
    "yield_hist.sample(n=5)"
   ]
  },
  {
   "cell_type": "code",
   "execution_count": 39,
   "id": "2900015c",
   "metadata": {},
   "outputs": [],
   "source": [
    "yield_hist['Date']=pd.to_datetime(yield_hist['Date'])"
   ]
  },
  {
   "cell_type": "code",
   "execution_count": 40,
   "id": "701ef5a2",
   "metadata": {},
   "outputs": [
    {
     "name": "stdout",
     "output_type": "stream",
     "text": [
      "<class 'pandas.core.frame.DataFrame'>\n",
      "RangeIndex: 255 entries, 0 to 254\n",
      "Data columns (total 14 columns):\n",
      " #   Column  Non-Null Count  Dtype         \n",
      "---  ------  --------------  -----         \n",
      " 0   Date    255 non-null    datetime64[ns]\n",
      " 1   1 Mo    255 non-null    float64       \n",
      " 2   2 Mo    255 non-null    float64       \n",
      " 3   3 Mo    255 non-null    float64       \n",
      " 4   4 Mo    255 non-null    float64       \n",
      " 5   6 Mo    255 non-null    float64       \n",
      " 6   1 Yr    255 non-null    float64       \n",
      " 7   2 Yr    255 non-null    float64       \n",
      " 8   3 Yr    255 non-null    float64       \n",
      " 9   5 Yr    255 non-null    float64       \n",
      " 10  7 Yr    255 non-null    float64       \n",
      " 11  10 Yr   255 non-null    float64       \n",
      " 12  20 Yr   255 non-null    float64       \n",
      " 13  30 Yr   255 non-null    float64       \n",
      "dtypes: datetime64[ns](1), float64(13)\n",
      "memory usage: 28.0 KB\n"
     ]
    }
   ],
   "source": [
    "yield_hist.info()"
   ]
  },
  {
   "cell_type": "code",
   "execution_count": 41,
   "id": "95fd371f",
   "metadata": {},
   "outputs": [],
   "source": [
    "yield_hist_returns=yield_hist.iloc[:,1:].diff()"
   ]
  },
  {
   "cell_type": "code",
   "execution_count": 42,
   "id": "baaa4619",
   "metadata": {},
   "outputs": [],
   "source": [
    "yield_hist_returns = yield_hist_returns.dropna()"
   ]
  },
  {
   "cell_type": "code",
   "execution_count": 43,
   "id": "14ab838e",
   "metadata": {},
   "outputs": [],
   "source": [
    "#Call PCA functions on the yield data\n",
    "pca_obj=PCA(n_components=3)"
   ]
  },
  {
   "cell_type": "code",
   "execution_count": 44,
   "id": "902d82cb",
   "metadata": {},
   "outputs": [
    {
     "data": {
      "text/html": [
       "<style>#sk-container-id-2 {color: black;}#sk-container-id-2 pre{padding: 0;}#sk-container-id-2 div.sk-toggleable {background-color: white;}#sk-container-id-2 label.sk-toggleable__label {cursor: pointer;display: block;width: 100%;margin-bottom: 0;padding: 0.3em;box-sizing: border-box;text-align: center;}#sk-container-id-2 label.sk-toggleable__label-arrow:before {content: \"▸\";float: left;margin-right: 0.25em;color: #696969;}#sk-container-id-2 label.sk-toggleable__label-arrow:hover:before {color: black;}#sk-container-id-2 div.sk-estimator:hover label.sk-toggleable__label-arrow:before {color: black;}#sk-container-id-2 div.sk-toggleable__content {max-height: 0;max-width: 0;overflow: hidden;text-align: left;background-color: #f0f8ff;}#sk-container-id-2 div.sk-toggleable__content pre {margin: 0.2em;color: black;border-radius: 0.25em;background-color: #f0f8ff;}#sk-container-id-2 input.sk-toggleable__control:checked~div.sk-toggleable__content {max-height: 200px;max-width: 100%;overflow: auto;}#sk-container-id-2 input.sk-toggleable__control:checked~label.sk-toggleable__label-arrow:before {content: \"▾\";}#sk-container-id-2 div.sk-estimator input.sk-toggleable__control:checked~label.sk-toggleable__label {background-color: #d4ebff;}#sk-container-id-2 div.sk-label input.sk-toggleable__control:checked~label.sk-toggleable__label {background-color: #d4ebff;}#sk-container-id-2 input.sk-hidden--visually {border: 0;clip: rect(1px 1px 1px 1px);clip: rect(1px, 1px, 1px, 1px);height: 1px;margin: -1px;overflow: hidden;padding: 0;position: absolute;width: 1px;}#sk-container-id-2 div.sk-estimator {font-family: monospace;background-color: #f0f8ff;border: 1px dotted black;border-radius: 0.25em;box-sizing: border-box;margin-bottom: 0.5em;}#sk-container-id-2 div.sk-estimator:hover {background-color: #d4ebff;}#sk-container-id-2 div.sk-parallel-item::after {content: \"\";width: 100%;border-bottom: 1px solid gray;flex-grow: 1;}#sk-container-id-2 div.sk-label:hover label.sk-toggleable__label {background-color: #d4ebff;}#sk-container-id-2 div.sk-serial::before {content: \"\";position: absolute;border-left: 1px solid gray;box-sizing: border-box;top: 0;bottom: 0;left: 50%;z-index: 0;}#sk-container-id-2 div.sk-serial {display: flex;flex-direction: column;align-items: center;background-color: white;padding-right: 0.2em;padding-left: 0.2em;position: relative;}#sk-container-id-2 div.sk-item {position: relative;z-index: 1;}#sk-container-id-2 div.sk-parallel {display: flex;align-items: stretch;justify-content: center;background-color: white;position: relative;}#sk-container-id-2 div.sk-item::before, #sk-container-id-2 div.sk-parallel-item::before {content: \"\";position: absolute;border-left: 1px solid gray;box-sizing: border-box;top: 0;bottom: 0;left: 50%;z-index: -1;}#sk-container-id-2 div.sk-parallel-item {display: flex;flex-direction: column;z-index: 1;position: relative;background-color: white;}#sk-container-id-2 div.sk-parallel-item:first-child::after {align-self: flex-end;width: 50%;}#sk-container-id-2 div.sk-parallel-item:last-child::after {align-self: flex-start;width: 50%;}#sk-container-id-2 div.sk-parallel-item:only-child::after {width: 0;}#sk-container-id-2 div.sk-dashed-wrapped {border: 1px dashed gray;margin: 0 0.4em 0.5em 0.4em;box-sizing: border-box;padding-bottom: 0.4em;background-color: white;}#sk-container-id-2 div.sk-label label {font-family: monospace;font-weight: bold;display: inline-block;line-height: 1.2em;}#sk-container-id-2 div.sk-label-container {text-align: center;}#sk-container-id-2 div.sk-container {/* jupyter's `normalize.less` sets `[hidden] { display: none; }` but bootstrap.min.css set `[hidden] { display: none !important; }` so we also need the `!important` here to be able to override the default hidden behavior on the sphinx rendered scikit-learn.org. See: https://github.com/scikit-learn/scikit-learn/issues/21755 */display: inline-block !important;position: relative;}#sk-container-id-2 div.sk-text-repr-fallback {display: none;}</style><div id=\"sk-container-id-2\" class=\"sk-top-container\"><div class=\"sk-text-repr-fallback\"><pre>PCA(n_components=3)</pre><b>In a Jupyter environment, please rerun this cell to show the HTML representation or trust the notebook. <br />On GitHub, the HTML representation is unable to render, please try loading this page with nbviewer.org.</b></div><div class=\"sk-container\" hidden><div class=\"sk-item\"><div class=\"sk-estimator sk-toggleable\"><input class=\"sk-toggleable__control sk-hidden--visually\" id=\"sk-estimator-id-2\" type=\"checkbox\" checked><label for=\"sk-estimator-id-2\" class=\"sk-toggleable__label sk-toggleable__label-arrow\">PCA</label><div class=\"sk-toggleable__content\"><pre>PCA(n_components=3)</pre></div></div></div></div></div>"
      ],
      "text/plain": [
       "PCA(n_components=3)"
      ]
     },
     "execution_count": 44,
     "metadata": {},
     "output_type": "execute_result"
    }
   ],
   "source": [
    "pca_obj.fit(yield_hist_returns)"
   ]
  },
  {
   "cell_type": "code",
   "execution_count": 45,
   "id": "2633614a",
   "metadata": {},
   "outputs": [
    {
     "data": {
      "text/plain": [
       "0.9543027973344773"
      ]
     },
     "execution_count": 45,
     "metadata": {},
     "output_type": "execute_result"
    }
   ],
   "source": [
    "pca_obj.explained_variance_ratio_.sum()"
   ]
  },
  {
   "cell_type": "code",
   "execution_count": 46,
   "id": "c4f01aca",
   "metadata": {},
   "outputs": [],
   "source": [
    "yield_pca_comps=pca_obj.components_"
   ]
  },
  {
   "cell_type": "code",
   "execution_count": 47,
   "id": "7dc0c818",
   "metadata": {},
   "outputs": [
    {
     "data": {
      "text/plain": [
       "array([-0.03131454,  0.01042115,  0.05160515,  0.04987028,  0.13521177,\n",
       "        0.33096971,  0.4874204 ,  0.32068756,  0.12626092, -0.06183376,\n",
       "       -0.242681  , -0.44662069, -0.49738214])"
      ]
     },
     "execution_count": 47,
     "metadata": {},
     "output_type": "execute_result"
    }
   ],
   "source": [
    "yield_pca_comps[1]"
   ]
  },
  {
   "cell_type": "code",
   "execution_count": 48,
   "id": "df8be4d9",
   "metadata": {},
   "outputs": [
    {
     "data": {
      "text/plain": [
       "array([-0.01649157, -0.0111587 , -0.03151557, -0.04106652, -0.08391083,\n",
       "       -0.19218836, -0.34203908, -0.38967236, -0.4080812 , -0.40809164,\n",
       "       -0.37662017, -0.33142464, -0.31520953])"
      ]
     },
     "execution_count": 48,
     "metadata": {},
     "output_type": "execute_result"
    }
   ],
   "source": [
    "yield_pca_comps[0]"
   ]
  },
  {
   "cell_type": "code",
   "execution_count": 49,
   "id": "c2fd5330",
   "metadata": {},
   "outputs": [
    {
     "data": {
      "text/html": [
       "<div>\n",
       "<style scoped>\n",
       "    .dataframe tbody tr th:only-of-type {\n",
       "        vertical-align: middle;\n",
       "    }\n",
       "\n",
       "    .dataframe tbody tr th {\n",
       "        vertical-align: top;\n",
       "    }\n",
       "\n",
       "    .dataframe thead th {\n",
       "        text-align: right;\n",
       "    }\n",
       "</style>\n",
       "<table border=\"1\" class=\"dataframe\">\n",
       "  <thead>\n",
       "    <tr style=\"text-align: right;\">\n",
       "      <th></th>\n",
       "      <th>1 Mo</th>\n",
       "      <th>2 Mo</th>\n",
       "      <th>3 Mo</th>\n",
       "      <th>4 Mo</th>\n",
       "      <th>6 Mo</th>\n",
       "      <th>1 Yr</th>\n",
       "      <th>2 Yr</th>\n",
       "      <th>3 Yr</th>\n",
       "      <th>5 Yr</th>\n",
       "      <th>7 Yr</th>\n",
       "      <th>10 Yr</th>\n",
       "      <th>20 Yr</th>\n",
       "      <th>30 Yr</th>\n",
       "    </tr>\n",
       "  </thead>\n",
       "  <tbody>\n",
       "    <tr>\n",
       "      <th>1</th>\n",
       "      <td>0.00</td>\n",
       "      <td>0.01</td>\n",
       "      <td>0.09</td>\n",
       "      <td>0.00</td>\n",
       "      <td>0.04</td>\n",
       "      <td>0.02</td>\n",
       "      <td>-0.06</td>\n",
       "      <td>-0.02</td>\n",
       "      <td>-0.03</td>\n",
       "      <td>-0.03</td>\n",
       "      <td>-0.02</td>\n",
       "      <td>0.00</td>\n",
       "      <td>0.01</td>\n",
       "    </tr>\n",
       "    <tr>\n",
       "      <th>2</th>\n",
       "      <td>0.00</td>\n",
       "      <td>0.00</td>\n",
       "      <td>-0.06</td>\n",
       "      <td>0.00</td>\n",
       "      <td>0.01</td>\n",
       "      <td>0.06</td>\n",
       "      <td>0.09</td>\n",
       "      <td>0.08</td>\n",
       "      <td>0.06</td>\n",
       "      <td>0.05</td>\n",
       "      <td>0.05</td>\n",
       "      <td>0.02</td>\n",
       "      <td>0.01</td>\n",
       "    </tr>\n",
       "    <tr>\n",
       "      <th>3</th>\n",
       "      <td>0.00</td>\n",
       "      <td>0.01</td>\n",
       "      <td>0.00</td>\n",
       "      <td>0.05</td>\n",
       "      <td>0.01</td>\n",
       "      <td>-0.01</td>\n",
       "      <td>-0.03</td>\n",
       "      <td>-0.06</td>\n",
       "      <td>-0.05</td>\n",
       "      <td>-0.07</td>\n",
       "      <td>-0.06</td>\n",
       "      <td>-0.03</td>\n",
       "      <td>-0.03</td>\n",
       "    </tr>\n",
       "    <tr>\n",
       "      <th>4</th>\n",
       "      <td>0.08</td>\n",
       "      <td>0.08</td>\n",
       "      <td>0.02</td>\n",
       "      <td>0.02</td>\n",
       "      <td>0.03</td>\n",
       "      <td>0.09</td>\n",
       "      <td>0.16</td>\n",
       "      <td>0.17</td>\n",
       "      <td>0.17</td>\n",
       "      <td>0.16</td>\n",
       "      <td>0.14</td>\n",
       "      <td>0.11</td>\n",
       "      <td>0.11</td>\n",
       "    </tr>\n",
       "    <tr>\n",
       "      <th>5</th>\n",
       "      <td>-0.01</td>\n",
       "      <td>-0.01</td>\n",
       "      <td>-0.03</td>\n",
       "      <td>-0.01</td>\n",
       "      <td>-0.03</td>\n",
       "      <td>-0.01</td>\n",
       "      <td>0.00</td>\n",
       "      <td>0.00</td>\n",
       "      <td>-0.01</td>\n",
       "      <td>-0.02</td>\n",
       "      <td>-0.04</td>\n",
       "      <td>-0.05</td>\n",
       "      <td>-0.07</td>\n",
       "    </tr>\n",
       "  </tbody>\n",
       "</table>\n",
       "</div>"
      ],
      "text/plain": [
       "   1 Mo  2 Mo  3 Mo  4 Mo  6 Mo  1 Yr  2 Yr  3 Yr  5 Yr  7 Yr  10 Yr  20 Yr  \\\n",
       "1  0.00  0.01  0.09  0.00  0.04  0.02 -0.06 -0.02 -0.03 -0.03  -0.02   0.00   \n",
       "2  0.00  0.00 -0.06  0.00  0.01  0.06  0.09  0.08  0.06  0.05   0.05   0.02   \n",
       "3  0.00  0.01  0.00  0.05  0.01 -0.01 -0.03 -0.06 -0.05 -0.07  -0.06  -0.03   \n",
       "4  0.08  0.08  0.02  0.02  0.03  0.09  0.16  0.17  0.17  0.16   0.14   0.11   \n",
       "5 -0.01 -0.01 -0.03 -0.01 -0.03 -0.01  0.00  0.00 -0.01 -0.02  -0.04  -0.05   \n",
       "\n",
       "   30 Yr  \n",
       "1   0.01  \n",
       "2   0.01  \n",
       "3  -0.03  \n",
       "4   0.11  \n",
       "5  -0.07  "
      ]
     },
     "execution_count": 49,
     "metadata": {},
     "output_type": "execute_result"
    }
   ],
   "source": [
    "yield_hist_returns.head()"
   ]
  },
  {
   "cell_type": "code",
   "execution_count": 50,
   "id": "fc56a516",
   "metadata": {},
   "outputs": [],
   "source": [
    "#Construct time-series for first 3 PCs\n",
    "first_pca_ts=yield_pca_comps[0]*yield_hist_returns\n",
    "second_pca_ts=yield_pca_comps[1]*yield_hist_returns\n",
    "third_pca_ts=yield_pca_comps[2]*yield_hist_returns"
   ]
  },
  {
   "cell_type": "code",
   "execution_count": 51,
   "id": "cf4f5d8a",
   "metadata": {},
   "outputs": [
    {
     "data": {
      "text/html": [
       "<div>\n",
       "<style scoped>\n",
       "    .dataframe tbody tr th:only-of-type {\n",
       "        vertical-align: middle;\n",
       "    }\n",
       "\n",
       "    .dataframe tbody tr th {\n",
       "        vertical-align: top;\n",
       "    }\n",
       "\n",
       "    .dataframe thead th {\n",
       "        text-align: right;\n",
       "    }\n",
       "</style>\n",
       "<table border=\"1\" class=\"dataframe\">\n",
       "  <thead>\n",
       "    <tr style=\"text-align: right;\">\n",
       "      <th></th>\n",
       "      <th>1 Mo</th>\n",
       "      <th>2 Mo</th>\n",
       "      <th>3 Mo</th>\n",
       "      <th>4 Mo</th>\n",
       "      <th>6 Mo</th>\n",
       "      <th>1 Yr</th>\n",
       "      <th>2 Yr</th>\n",
       "      <th>3 Yr</th>\n",
       "      <th>5 Yr</th>\n",
       "      <th>7 Yr</th>\n",
       "      <th>10 Yr</th>\n",
       "      <th>20 Yr</th>\n",
       "      <th>30 Yr</th>\n",
       "    </tr>\n",
       "  </thead>\n",
       "  <tbody>\n",
       "    <tr>\n",
       "      <th>1</th>\n",
       "      <td>-0.000000</td>\n",
       "      <td>-0.000112</td>\n",
       "      <td>-0.002836</td>\n",
       "      <td>-0.000000</td>\n",
       "      <td>-0.003356</td>\n",
       "      <td>-0.003844</td>\n",
       "      <td>0.020522</td>\n",
       "      <td>0.007793</td>\n",
       "      <td>0.012242</td>\n",
       "      <td>0.012243</td>\n",
       "      <td>0.007532</td>\n",
       "      <td>-0.000000</td>\n",
       "      <td>-0.003152</td>\n",
       "    </tr>\n",
       "    <tr>\n",
       "      <th>2</th>\n",
       "      <td>-0.000000</td>\n",
       "      <td>-0.000000</td>\n",
       "      <td>0.001891</td>\n",
       "      <td>-0.000000</td>\n",
       "      <td>-0.000839</td>\n",
       "      <td>-0.011531</td>\n",
       "      <td>-0.030784</td>\n",
       "      <td>-0.031174</td>\n",
       "      <td>-0.024485</td>\n",
       "      <td>-0.020405</td>\n",
       "      <td>-0.018831</td>\n",
       "      <td>-0.006628</td>\n",
       "      <td>-0.003152</td>\n",
       "    </tr>\n",
       "    <tr>\n",
       "      <th>3</th>\n",
       "      <td>-0.000000</td>\n",
       "      <td>-0.000112</td>\n",
       "      <td>-0.000000</td>\n",
       "      <td>-0.002053</td>\n",
       "      <td>-0.000839</td>\n",
       "      <td>0.001922</td>\n",
       "      <td>0.010261</td>\n",
       "      <td>0.023380</td>\n",
       "      <td>0.020404</td>\n",
       "      <td>0.028566</td>\n",
       "      <td>0.022597</td>\n",
       "      <td>0.009943</td>\n",
       "      <td>0.009456</td>\n",
       "    </tr>\n",
       "    <tr>\n",
       "      <th>4</th>\n",
       "      <td>-0.001319</td>\n",
       "      <td>-0.000893</td>\n",
       "      <td>-0.000630</td>\n",
       "      <td>-0.000821</td>\n",
       "      <td>-0.002517</td>\n",
       "      <td>-0.017297</td>\n",
       "      <td>-0.054726</td>\n",
       "      <td>-0.066244</td>\n",
       "      <td>-0.069374</td>\n",
       "      <td>-0.065295</td>\n",
       "      <td>-0.052727</td>\n",
       "      <td>-0.036457</td>\n",
       "      <td>-0.034673</td>\n",
       "    </tr>\n",
       "    <tr>\n",
       "      <th>5</th>\n",
       "      <td>0.000165</td>\n",
       "      <td>0.000112</td>\n",
       "      <td>0.000945</td>\n",
       "      <td>0.000411</td>\n",
       "      <td>0.002517</td>\n",
       "      <td>0.001922</td>\n",
       "      <td>-0.000000</td>\n",
       "      <td>-0.000000</td>\n",
       "      <td>0.004081</td>\n",
       "      <td>0.008162</td>\n",
       "      <td>0.015065</td>\n",
       "      <td>0.016571</td>\n",
       "      <td>0.022065</td>\n",
       "    </tr>\n",
       "  </tbody>\n",
       "</table>\n",
       "</div>"
      ],
      "text/plain": [
       "       1 Mo      2 Mo      3 Mo      4 Mo      6 Mo      1 Yr      2 Yr  \\\n",
       "1 -0.000000 -0.000112 -0.002836 -0.000000 -0.003356 -0.003844  0.020522   \n",
       "2 -0.000000 -0.000000  0.001891 -0.000000 -0.000839 -0.011531 -0.030784   \n",
       "3 -0.000000 -0.000112 -0.000000 -0.002053 -0.000839  0.001922  0.010261   \n",
       "4 -0.001319 -0.000893 -0.000630 -0.000821 -0.002517 -0.017297 -0.054726   \n",
       "5  0.000165  0.000112  0.000945  0.000411  0.002517  0.001922 -0.000000   \n",
       "\n",
       "       3 Yr      5 Yr      7 Yr     10 Yr     20 Yr     30 Yr  \n",
       "1  0.007793  0.012242  0.012243  0.007532 -0.000000 -0.003152  \n",
       "2 -0.031174 -0.024485 -0.020405 -0.018831 -0.006628 -0.003152  \n",
       "3  0.023380  0.020404  0.028566  0.022597  0.009943  0.009456  \n",
       "4 -0.066244 -0.069374 -0.065295 -0.052727 -0.036457 -0.034673  \n",
       "5 -0.000000  0.004081  0.008162  0.015065  0.016571  0.022065  "
      ]
     },
     "execution_count": 51,
     "metadata": {},
     "output_type": "execute_result"
    }
   ],
   "source": [
    "first_pca_ts.head()"
   ]
  },
  {
   "cell_type": "code",
   "execution_count": 27,
   "id": "573e12c9",
   "metadata": {},
   "outputs": [
    {
     "data": {
      "image/png": "[encoded data removed]",
      "text/plain": [
       "<Figure size 640x480 with 1 Axes>"
      ]
     },
     "execution_count": 27,
     "metadata": {},
     "output_type": "execute_result"
    },
    {
     "data": {
      "image/png": "[encoded data removed]",
      "text/plain": [
       "<Figure size 640x480 with 1 Axes>"
      ]
     },
     "metadata": {},
     "output_type": "display_data"
    }
   ],
   "source": [
    "#EDA for yield time-series\n",
    "tsaplots.plot_acf(first_pca_ts['1 Mo'],zero=False)"
   ]
  },
  {
   "cell_type": "code",
   "execution_count": 33,
   "id": "2e5568dd",
   "metadata": {},
   "outputs": [],
   "source": [
    "#Construct numpy arrays for few yields by maturity\n",
    "ts_1Mo = np.array(first_pca_ts['1 Mo'])\n",
    "ts_3Mo = np.array(first_pca_ts['3 Mo'])\n",
    "ts_1Yr = np.array(first_pca_ts['1 Yr'])\n",
    "ts_10Yr = np.array(first_pca_ts['10 Yr'])"
   ]
  },
  {
   "cell_type": "code",
   "execution_count": 56,
   "id": "a1fd01b3",
   "metadata": {},
   "outputs": [
    {
     "data": {
      "text/plain": [
       "<Axes: >"
      ]
     },
     "execution_count": 56,
     "metadata": {},
     "output_type": "execute_result"
    },
    {
     "data": {
      "image/png": "[encoded data removed]",
      "text/plain": [
       "<Figure size 640x480 with 4 Axes>"
      ]
     },
     "metadata": {},
     "output_type": "display_data"
    }
   ],
   "source": [
    "fig, ((ax1, ax2), (ax3, ax4)) = pyplot.subplots(nrows=2, ncols=2)\n",
    "sbn.scatterplot(x=ts_1Mo[:-1], y=ts_1Mo[1:], ax=ax1)\n",
    "sbn.scatterplot(x=ts_3Mo[:-1], y=ts_3Mo[1:], ax=ax2)\n",
    "sbn.scatterplot(x=ts_1Yr[:-1], y=ts_1Yr[1:], ax=ax3)\n",
    "sbn.scatterplot(x=ts_10Yr[:-1], y=ts_10Yr[1:], ax=ax4)"
   ]
  },
  {
   "cell_type": "markdown",
   "id": "991a8a7e",
   "metadata": {},
   "source": [
    "The above plot shows that yield returns do not exhibit homoskedacity. We can try using AR(1) model to predict and simulate yield returns"
   ]
  },
  {
   "cell_type": "code",
   "execution_count": null,
   "id": "47610aa1",
   "metadata": {},
   "outputs": [],
   "source": []
  }
 ],
 "metadata": {
  "kernelspec": {
   "display_name": "Python 3 (ipykernel)",
   "language": "python",
   "name": "python3"
  },
  "language_info": {
   "codemirror_mode": {
    "name": "ipython",
    "version": 3
   },
   "file_extension": ".py",
   "mimetype": "text/x-python",
   "name": "python",
   "nbconvert_exporter": "python",
   "pygments_lexer": "ipython3",
   "version": "3.11.5"
  }
 },
 "nbformat": 4,
 "nbformat_minor": 5
}
