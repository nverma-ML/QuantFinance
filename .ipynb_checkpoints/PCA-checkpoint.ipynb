{
 "cells": [
  {
   "cell_type": "code",
   "execution_count": 2,
   "id": "2e4b7ae8",
   "metadata": {},
   "outputs": [],
   "source": [
    "import numpy as np\n",
    "from sklearn.decomposition import PCA"
   ]
  },
  {
   "cell_type": "code",
   "execution_count": 3,
   "id": "303fc818",
   "metadata": {},
   "outputs": [],
   "source": [
    "def get_principal_components(cross_section_ts, num_components):\n",
    "    \n",
    "    pca_obj = PCA(n_components=num_components)\n",
    "    pca_obj.fit(cross_section_ts)\n",
    "    return pca_obj.components_\n",
    "    \n",
    " "
   ]
  },
  {
   "cell_type": "code",
   "execution_count": null,
   "id": "7a1387d4",
   "metadata": {},
   "outputs": [],
   "source": []
  }
 ],
 "metadata": {
  "kernelspec": {
   "display_name": "Python 3 (ipykernel)",
   "language": "python",
   "name": "python3"
  },
  "language_info": {
   "codemirror_mode": {
    "name": "ipython",
    "version": 3
   },
   "file_extension": ".py",
   "mimetype": "text/x-python",
   "name": "python",
   "nbconvert_exporter": "python",
   "pygments_lexer": "ipython3",
   "version": "3.11.5"
  }
 },
 "nbformat": 4,
 "nbformat_minor": 5
}
