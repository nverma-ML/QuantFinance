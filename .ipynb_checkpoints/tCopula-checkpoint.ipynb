{
 "cells": [
  {
   "cell_type": "code",
   "execution_count": null,
   "id": "d43e022a",
   "metadata": {},
   "outputs": [],
   "source": [
    "class tCopula:\n",
    "    \n",
    "    dof=4 #default degrees of freedom defined \n",
    "    \n",
    "    def __init__(self, corrMatrix,uniform):\n",
    "        self.corrMatrix=corrMatrix\n",
    "                   \n",
    "    #Generate random variables based on t-distribution with dof\n",
    "    def generate_random_variates(self, num_ts, num_scenarios):\n",
    "           \n",
    "      random_t_variates=stats.multivariate_t.rvs(loc=np.zeros(num_ts), shape=self.corrMatrix, df=dof, size=num_scenarios)\n",
    "      return random_t_variates\n",
    "        "
   ]
  }
 ],
 "metadata": {
  "kernelspec": {
   "display_name": "Python 3 (ipykernel)",
   "language": "python",
   "name": "python3"
  },
  "language_info": {
   "codemirror_mode": {
    "name": "ipython",
    "version": 3
   },
   "file_extension": ".py",
   "mimetype": "text/x-python",
   "name": "python",
   "nbconvert_exporter": "python",
   "pygments_lexer": "ipython3",
   "version": "3.11.5"
  }
 },
 "nbformat": 4,
 "nbformat_minor": 5
}
