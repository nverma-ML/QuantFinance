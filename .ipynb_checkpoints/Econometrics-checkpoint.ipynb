{
 "cells": [
  {
   "cell_type": "code",
   "execution_count": 1,
   "id": "6d1d2825",
   "metadata": {},
   "outputs": [],
   "source": [
    "#Import basic python libraries\n",
    "import numpy as np\n",
    "import pandas as pd\n",
    "import scipy.stats as stats\n",
    "import matplotlib.pyplot as plt\n",
    "import seaborn as sbn\n"
   ]
  },
  {
   "cell_type": "code",
   "execution_count": 2,
   "id": "9f9c434f",
   "metadata": {},
   "outputs": [],
   "source": [
    "#Import optimization library\n",
    "from scipy import optimize as opt"
   ]
  },
  {
   "cell_type": "code",
   "execution_count": 3,
   "id": "7da7f14e",
   "metadata": {},
   "outputs": [
    {
     "name": "stdout",
     "output_type": "stream",
     "text": [
      "Read successfully\n"
     ]
    }
   ],
   "source": [
    "#Read equities prices\n",
    "amzn = pd.read_csv('AMZN.csv')\n",
    "amd = pd.read_csv('AMD.csv')\n",
    "nvda = pd.read_csv('NVDA.csv')\n",
    "print(\"Read successfully\")"
   ]
  },
  {
   "cell_type": "code",
   "execution_count": 4,
   "id": "d8b7c030",
   "metadata": {},
   "outputs": [
    {
     "data": {
      "text/html": [
       "<div>\n",
       "<style scoped>\n",
       "    .dataframe tbody tr th:only-of-type {\n",
       "        vertical-align: middle;\n",
       "    }\n",
       "\n",
       "    .dataframe tbody tr th {\n",
       "        vertical-align: top;\n",
       "    }\n",
       "\n",
       "    .dataframe thead th {\n",
       "        text-align: right;\n",
       "    }\n",
       "</style>\n",
       "<table border=\"1\" class=\"dataframe\">\n",
       "  <thead>\n",
       "    <tr style=\"text-align: right;\">\n",
       "      <th></th>\n",
       "      <th>Date</th>\n",
       "      <th>Open</th>\n",
       "      <th>High</th>\n",
       "      <th>Low</th>\n",
       "      <th>Close</th>\n",
       "      <th>Adj Close</th>\n",
       "      <th>Volume</th>\n",
       "    </tr>\n",
       "  </thead>\n",
       "  <tbody>\n",
       "    <tr>\n",
       "      <th>0</th>\n",
       "      <td>2023-06-30</td>\n",
       "      <td>129.470001</td>\n",
       "      <td>131.250000</td>\n",
       "      <td>128.949997</td>\n",
       "      <td>130.360001</td>\n",
       "      <td>130.360001</td>\n",
       "      <td>54310500</td>\n",
       "    </tr>\n",
       "    <tr>\n",
       "      <th>1</th>\n",
       "      <td>2023-07-03</td>\n",
       "      <td>130.820007</td>\n",
       "      <td>131.850006</td>\n",
       "      <td>130.070007</td>\n",
       "      <td>130.220001</td>\n",
       "      <td>130.220001</td>\n",
       "      <td>28264800</td>\n",
       "    </tr>\n",
       "    <tr>\n",
       "      <th>2</th>\n",
       "      <td>2023-07-05</td>\n",
       "      <td>130.240005</td>\n",
       "      <td>131.399994</td>\n",
       "      <td>129.639999</td>\n",
       "      <td>130.380005</td>\n",
       "      <td>130.380005</td>\n",
       "      <td>35895400</td>\n",
       "    </tr>\n",
       "    <tr>\n",
       "      <th>3</th>\n",
       "      <td>2023-07-06</td>\n",
       "      <td>128.250000</td>\n",
       "      <td>128.729996</td>\n",
       "      <td>127.370003</td>\n",
       "      <td>128.360001</td>\n",
       "      <td>128.360001</td>\n",
       "      <td>40639900</td>\n",
       "    </tr>\n",
       "    <tr>\n",
       "      <th>4</th>\n",
       "      <td>2023-07-07</td>\n",
       "      <td>128.589996</td>\n",
       "      <td>130.970001</td>\n",
       "      <td>128.130005</td>\n",
       "      <td>129.779999</td>\n",
       "      <td>129.779999</td>\n",
       "      <td>41928700</td>\n",
       "    </tr>\n",
       "  </tbody>\n",
       "</table>\n",
       "</div>"
      ],
      "text/plain": [
       "         Date        Open        High         Low       Close   Adj Close  \\\n",
       "0  2023-06-30  129.470001  131.250000  128.949997  130.360001  130.360001   \n",
       "1  2023-07-03  130.820007  131.850006  130.070007  130.220001  130.220001   \n",
       "2  2023-07-05  130.240005  131.399994  129.639999  130.380005  130.380005   \n",
       "3  2023-07-06  128.250000  128.729996  127.370003  128.360001  128.360001   \n",
       "4  2023-07-07  128.589996  130.970001  128.130005  129.779999  129.779999   \n",
       "\n",
       "     Volume  \n",
       "0  54310500  \n",
       "1  28264800  \n",
       "2  35895400  \n",
       "3  40639900  \n",
       "4  41928700  "
      ]
     },
     "execution_count": 4,
     "metadata": {},
     "output_type": "execute_result"
    }
   ],
   "source": [
    "amzn.head()"
   ]
  },
  {
   "cell_type": "code",
   "execution_count": 5,
   "id": "521ad362",
   "metadata": {},
   "outputs": [],
   "source": [
    "# Combine different time-series based on common dates\n",
    "def aligned_time_series(list_of_factors):\n",
    "    \n",
    "    combined_ts = list_of_factors[0][['Date','Adj Close']]\n",
    "    combined_ts.columns=['Date','Close_0']\n",
    "    \n",
    "    #Align the time-series on Close Price\n",
    "    for k in range(1, len(list_of_factors)):\n",
    "           combined_ts= combined_ts.merge(list_of_factors[k][['Date','Adj Close']], on='Date')\n",
    "           combined_ts.rename(columns={'Adj Close':'Close_'+str(k)}, inplace=True)   \n",
    "    \n",
    "    #Calculate log-returns for the time-series data\n",
    "    ts_names = combined_ts.columns.tolist()\n",
    "    combined_ret_ts=pd.DataFrame()\n",
    "    combined_ret_ts['Date']=combined_ts['Date']\n",
    "    \n",
    "    for i in range(1, len(ts_names)):\n",
    "        combined_ret_ts[ts_names[i]]=np.log(combined_ts[ts_names[i]]).diff()\n",
    "            \n",
    "    return combined_ret_ts\n",
    "    "
   ]
  },
  {
   "cell_type": "code",
   "execution_count": 6,
   "id": "ae28ccaa",
   "metadata": {},
   "outputs": [],
   "source": [
    "combined_ts=aligned_time_series([amzn, amd, nvda])"
   ]
  },
  {
   "cell_type": "code",
   "execution_count": 7,
   "id": "3e567972",
   "metadata": {},
   "outputs": [
    {
     "data": {
      "text/html": [
       "<div>\n",
       "<style scoped>\n",
       "    .dataframe tbody tr th:only-of-type {\n",
       "        vertical-align: middle;\n",
       "    }\n",
       "\n",
       "    .dataframe tbody tr th {\n",
       "        vertical-align: top;\n",
       "    }\n",
       "\n",
       "    .dataframe thead th {\n",
       "        text-align: right;\n",
       "    }\n",
       "</style>\n",
       "<table border=\"1\" class=\"dataframe\">\n",
       "  <thead>\n",
       "    <tr style=\"text-align: right;\">\n",
       "      <th></th>\n",
       "      <th>Date</th>\n",
       "      <th>Close_0</th>\n",
       "      <th>Close_1</th>\n",
       "      <th>Close_2</th>\n",
       "    </tr>\n",
       "  </thead>\n",
       "  <tbody>\n",
       "    <tr>\n",
       "      <th>0</th>\n",
       "      <td>2023-06-30</td>\n",
       "      <td>NaN</td>\n",
       "      <td>NaN</td>\n",
       "      <td>NaN</td>\n",
       "    </tr>\n",
       "    <tr>\n",
       "      <th>1</th>\n",
       "      <td>2023-07-03</td>\n",
       "      <td>-0.001075</td>\n",
       "      <td>0.016629</td>\n",
       "      <td>0.002621</td>\n",
       "    </tr>\n",
       "    <tr>\n",
       "      <th>2</th>\n",
       "      <td>2023-07-05</td>\n",
       "      <td>0.001228</td>\n",
       "      <td>-0.016278</td>\n",
       "      <td>-0.002266</td>\n",
       "    </tr>\n",
       "    <tr>\n",
       "      <th>3</th>\n",
       "      <td>2023-07-06</td>\n",
       "      <td>-0.015614</td>\n",
       "      <td>-0.004133</td>\n",
       "      <td>-0.005070</td>\n",
       "    </tr>\n",
       "    <tr>\n",
       "      <th>4</th>\n",
       "      <td>2023-07-07</td>\n",
       "      <td>0.011002</td>\n",
       "      <td>-0.002736</td>\n",
       "      <td>0.009455</td>\n",
       "    </tr>\n",
       "  </tbody>\n",
       "</table>\n",
       "</div>"
      ],
      "text/plain": [
       "         Date   Close_0   Close_1   Close_2\n",
       "0  2023-06-30       NaN       NaN       NaN\n",
       "1  2023-07-03 -0.001075  0.016629  0.002621\n",
       "2  2023-07-05  0.001228 -0.016278 -0.002266\n",
       "3  2023-07-06 -0.015614 -0.004133 -0.005070\n",
       "4  2023-07-07  0.011002 -0.002736  0.009455"
      ]
     },
     "execution_count": 7,
     "metadata": {},
     "output_type": "execute_result"
    }
   ],
   "source": [
    "combined_ts.head(5)"
   ]
  },
  {
   "cell_type": "code",
   "execution_count": 8,
   "id": "7747ef6b",
   "metadata": {},
   "outputs": [
    {
     "data": {
      "text/plain": [
       "Index(['Date', 'Close_0', 'Close_1', 'Close_2'], dtype='object')"
      ]
     },
     "execution_count": 8,
     "metadata": {},
     "output_type": "execute_result"
    }
   ],
   "source": [
    "combined_ts.columns"
   ]
  },
  {
   "cell_type": "code",
   "execution_count": 9,
   "id": "0bba1661",
   "metadata": {},
   "outputs": [],
   "source": [
    "combined_ret_ts=combined_ts.iloc[1:,:]"
   ]
  },
  {
   "cell_type": "code",
   "execution_count": 10,
   "id": "854ee03a",
   "metadata": {},
   "outputs": [
    {
     "data": {
      "text/html": [
       "<div>\n",
       "<style scoped>\n",
       "    .dataframe tbody tr th:only-of-type {\n",
       "        vertical-align: middle;\n",
       "    }\n",
       "\n",
       "    .dataframe tbody tr th {\n",
       "        vertical-align: top;\n",
       "    }\n",
       "\n",
       "    .dataframe thead th {\n",
       "        text-align: right;\n",
       "    }\n",
       "</style>\n",
       "<table border=\"1\" class=\"dataframe\">\n",
       "  <thead>\n",
       "    <tr style=\"text-align: right;\">\n",
       "      <th></th>\n",
       "      <th>Date</th>\n",
       "      <th>Close_0</th>\n",
       "      <th>Close_1</th>\n",
       "      <th>Close_2</th>\n",
       "    </tr>\n",
       "  </thead>\n",
       "  <tbody>\n",
       "    <tr>\n",
       "      <th>1</th>\n",
       "      <td>2023-07-03</td>\n",
       "      <td>-0.001075</td>\n",
       "      <td>0.016629</td>\n",
       "      <td>0.002621</td>\n",
       "    </tr>\n",
       "    <tr>\n",
       "      <th>2</th>\n",
       "      <td>2023-07-05</td>\n",
       "      <td>0.001228</td>\n",
       "      <td>-0.016278</td>\n",
       "      <td>-0.002266</td>\n",
       "    </tr>\n",
       "    <tr>\n",
       "      <th>3</th>\n",
       "      <td>2023-07-06</td>\n",
       "      <td>-0.015614</td>\n",
       "      <td>-0.004133</td>\n",
       "      <td>-0.005070</td>\n",
       "    </tr>\n",
       "    <tr>\n",
       "      <th>4</th>\n",
       "      <td>2023-07-07</td>\n",
       "      <td>0.011002</td>\n",
       "      <td>-0.002736</td>\n",
       "      <td>0.009455</td>\n",
       "    </tr>\n",
       "    <tr>\n",
       "      <th>5</th>\n",
       "      <td>2023-07-10</td>\n",
       "      <td>-0.020631</td>\n",
       "      <td>0.003616</td>\n",
       "      <td>-0.007628</td>\n",
       "    </tr>\n",
       "  </tbody>\n",
       "</table>\n",
       "</div>"
      ],
      "text/plain": [
       "         Date   Close_0   Close_1   Close_2\n",
       "1  2023-07-03 -0.001075  0.016629  0.002621\n",
       "2  2023-07-05  0.001228 -0.016278 -0.002266\n",
       "3  2023-07-06 -0.015614 -0.004133 -0.005070\n",
       "4  2023-07-07  0.011002 -0.002736  0.009455\n",
       "5  2023-07-10 -0.020631  0.003616 -0.007628"
      ]
     },
     "execution_count": 10,
     "metadata": {},
     "output_type": "execute_result"
    }
   ],
   "source": [
    "combined_ret_ts.head(5)"
   ]
  },
  {
   "cell_type": "code",
   "execution_count": 11,
   "id": "f2ded67c",
   "metadata": {},
   "outputs": [],
   "source": [
    "from statsmodels.graphics import tsaplots"
   ]
  },
  {
   "cell_type": "code",
   "execution_count": 12,
   "id": "60472ed8",
   "metadata": {
    "scrolled": true
   },
   "outputs": [
    {
     "data": {
      "text/plain": [
       "array([ 1.        ,  0.00340649, -0.21227928, -0.00222035,  0.11151298,\n",
       "        0.04022923, -0.06463384, -0.11165114, -0.01266668, -0.06786514,\n",
       "       -0.0039406 , -0.08915841,  0.01844233, -0.01207937, -0.09681478,\n",
       "        0.04908345,  0.05150666, -0.01957466,  0.03528303,  0.06767888,\n",
       "       -0.00314308,  0.02231824, -0.0565607 ,  0.05097331])"
      ]
     },
     "execution_count": 12,
     "metadata": {},
     "output_type": "execute_result"
    }
   ],
   "source": [
    "tsaplots.acf(combined_ts.loc[1:,'Close_0'])"
   ]
  },
  {
   "cell_type": "code",
   "execution_count": 13,
   "id": "49d8e7db",
   "metadata": {
    "scrolled": false
   },
   "outputs": [
    {
     "data": {
      "image/png": "[encoded data removed]",
      "text/plain": [
       "<Figure size 640x480 with 1 Axes>"
      ]
     },
     "execution_count": 13,
     "metadata": {},
     "output_type": "execute_result"
    },
    {
     "data": {
      "image/png": "[encoded data removed]",
      "text/plain": [
       "<Figure size 640x480 with 1 Axes>"
      ]
     },
     "metadata": {},
     "output_type": "display_data"
    }
   ],
   "source": [
    "tsaplots.plot_acf(combined_ret_ts.loc[:,'Close_0'],zero=False)"
   ]
  },
  {
   "cell_type": "markdown",
   "id": "16d87e8a",
   "metadata": {},
   "source": [
    "#### The above autocorrelation plot shows there is no significant auto-correlation between lagged returns except for lag 2"
   ]
  },
  {
   "cell_type": "code",
   "execution_count": 14,
   "id": "98e2664f",
   "metadata": {},
   "outputs": [],
   "source": [
    "#Get the returns for 1st stock for empirical analysis\n",
    "sample_rets=np.array(combined_ts.loc[1:,'Close_0'])"
   ]
  },
  {
   "cell_type": "code",
   "execution_count": 15,
   "id": "4cf3407a",
   "metadata": {},
   "outputs": [
    {
     "data": {
      "image/png": "[encoded data removed]",
      "text/plain": [
       "<Figure size 1000x500 with 1 Axes>"
      ]
     },
     "metadata": {},
     "output_type": "display_data"
    }
   ],
   "source": [
    "#Plot scatter plot for residuals\n",
    "plt.figure(figsize=(10,5))\n",
    "sbn.scatterplot(x=sample_rets[0:-1],y=sample_rets[1:])\n",
    "plt.show()"
   ]
  },
  {
   "cell_type": "markdown",
   "id": "792dcb12",
   "metadata": {},
   "source": [
    "#### The above plot shows there is no dependency or there is weak white noise between the lagged (Lag-1) returns. "
   ]
  },
  {
   "cell_type": "code",
   "execution_count": 16,
   "id": "8a5165be",
   "metadata": {},
   "outputs": [],
   "source": [
    "#Get the squared returns\n",
    "sample_rets_sq=sample_rets**2"
   ]
  },
  {
   "cell_type": "code",
   "execution_count": 17,
   "id": "3d474796",
   "metadata": {},
   "outputs": [
    {
     "data": {
      "image/png": "[encoded data removed]",
      "text/plain": [
       "<Figure size 1000x500 with 1 Axes>"
      ]
     },
     "metadata": {},
     "output_type": "display_data"
    }
   ],
   "source": [
    "#Plot scatter plot for residuals\n",
    "plt.figure(figsize=(10,5))\n",
    "sbn.scatterplot(x=sample_rets_sq[0:-1],y=sample_rets_sq[1:])\n",
    "plt.show()"
   ]
  },
  {
   "cell_type": "markdown",
   "id": "6992ca06",
   "metadata": {},
   "source": [
    "#### The cone-like shape above indicates heteroskadicity between lagged squared-returns. Even if weak correlation (weak white noise ~ zero correlation) is observed between lagged returns, clearly thats not the case for squared returns indicating some dependence between lagged returns."
   ]
  },
  {
   "cell_type": "markdown",
   "id": "2acf7574",
   "metadata": {},
   "source": [
    "## GARCH(1,1)\n"
   ]
  },
  {
   "cell_type": "markdown",
   "id": "3711f3f6",
   "metadata": {},
   "source": [
    "#### Formulas\n",
    "    r_t= u_t + z_t\n",
    "    z_t=sigma_t * e_t\n",
    "    sigma_t^2 = alpha + beta*sigma_t1^2 + gamma*z`_t1^2"
   ]
  },
  {
   "cell_type": "code",
   "execution_count": 18,
   "id": "4a44432e",
   "metadata": {},
   "outputs": [],
   "source": [
    "#GARCH(1,1) equation\n",
    "def conditional_var(alpha, beta, gamma, var_lag, residual):\n",
    "  return alpha +(beta*var_lag)+ (gamma*(residual**2))"
   ]
  },
  {
   "cell_type": "code",
   "execution_count": 19,
   "id": "ab42d4de",
   "metadata": {},
   "outputs": [],
   "source": [
    "#Define log-likelihood function\n",
    "def log_likelihood(params, rets_ts):\n",
    " \n",
    " var_lag=np.zeros(len(rets_ts))\n",
    " residuals_lag=np.zeros(len(rets_ts))\n",
    " var_lag[0]=conditional_var(params[1], params[2],params[3],0, 0)  #Get the first conditional variance\n",
    " log_likelihood_sum=0\n",
    "\n",
    " for i in np.arange(0, len(rets_ts)):\n",
    "   log_likelihood_sum = log_likelihood_sum - (rets_ts[i]-params[0])**2/(2*(var_lag[i]**2)) + np.log(1/np.sqrt(2*3.14*(var_lag[i]**2)))\n",
    "   if(i < len(rets_ts)-1):\n",
    "    var_lag[i+1]= conditional_var(params[1], params[2],params[3],var_lag[i], residuals_lag[i])\n",
    "    residuals_lag[i+1] =rets_ts[i+1]- params[0]\n",
    "\n",
    " return -log_likelihood_sum"
   ]
  },
  {
   "cell_type": "code",
   "execution_count": 20,
   "id": "40c8900b",
   "metadata": {},
   "outputs": [],
   "source": [
    "#Constraints for GARCH fitting\n",
    "def params_constraint(params):\n",
    "        return (1-params[2] - params[3])\n",
    "    \n",
    "def alpha_constraint(params):\n",
    "    return params[1]\n",
    "\n",
    "def beta_constraint(params):\n",
    "    return params[2]\n",
    "\n",
    "def gamma_constraint(params):\n",
    "    return params[3]"
   ]
  },
  {
   "cell_type": "code",
   "execution_count": 21,
   "id": "5ad9b7c2",
   "metadata": {},
   "outputs": [],
   "source": [
    "#Fit GARCH(1,1) on the time-series data\n",
    "def fit_garch(rets_ts):\n",
    "    ''' Input: log-returns time-series\n",
    "        Output: fitted parameters\n",
    "    '''\n",
    "    #Minimize log-likelihood\n",
    "    constraints ={'type':'ineq', 'fun':params_constraint}\n",
    "    res= opt.minimize(log_likelihood,x0=[0.001,0.01,0.01,0.01], args=rets_ts, constraints=[{'type': 'ineq', 'fun': f} for f in [params_constraint, alpha_constraint, beta_constraint, gamma_constraint]])\n",
    "    #res= opt.minimize(log_likelihood,x0=[0.001,0.01,0.01,0.01], args=rets_ts)\n",
    "    \n",
    "    return res.x"
   ]
  },
  {
   "cell_type": "code",
   "execution_count": 22,
   "id": "eb5788f4",
   "metadata": {},
   "outputs": [
    {
     "data": {
      "text/plain": [
       "array([0.00139515, 0.00524318, 0.69365211, 0.30634789])"
      ]
     },
     "execution_count": 22,
     "metadata": {},
     "output_type": "execute_result"
    }
   ],
   "source": [
    "fit_garch(sample_rets)"
   ]
  },
  {
   "cell_type": "code",
   "execution_count": 23,
   "id": "b8252449",
   "metadata": {},
   "outputs": [
    {
     "data": {
      "text/html": [
       "<div>\n",
       "<style scoped>\n",
       "    .dataframe tbody tr th:only-of-type {\n",
       "        vertical-align: middle;\n",
       "    }\n",
       "\n",
       "    .dataframe tbody tr th {\n",
       "        vertical-align: top;\n",
       "    }\n",
       "\n",
       "    .dataframe thead th {\n",
       "        text-align: right;\n",
       "    }\n",
       "</style>\n",
       "<table border=\"1\" class=\"dataframe\">\n",
       "  <thead>\n",
       "    <tr style=\"text-align: right;\">\n",
       "      <th></th>\n",
       "      <th>Close_0</th>\n",
       "      <th>Close_1</th>\n",
       "      <th>Close_2</th>\n",
       "    </tr>\n",
       "  </thead>\n",
       "  <tbody>\n",
       "    <tr>\n",
       "      <th>count</th>\n",
       "      <td>250.000000</td>\n",
       "      <td>250.000000</td>\n",
       "      <td>250.000000</td>\n",
       "    </tr>\n",
       "    <tr>\n",
       "      <th>mean</th>\n",
       "      <td>0.001575</td>\n",
       "      <td>0.001414</td>\n",
       "      <td>0.004288</td>\n",
       "    </tr>\n",
       "    <tr>\n",
       "      <th>std</th>\n",
       "      <td>0.017431</td>\n",
       "      <td>0.028313</td>\n",
       "      <td>0.028074</td>\n",
       "    </tr>\n",
       "    <tr>\n",
       "      <th>min</th>\n",
       "      <td>-0.057387</td>\n",
       "      <td>-0.093311</td>\n",
       "      <td>-0.105412</td>\n",
       "    </tr>\n",
       "    <tr>\n",
       "      <th>25%</th>\n",
       "      <td>-0.009147</td>\n",
       "      <td>-0.012552</td>\n",
       "      <td>-0.011019</td>\n",
       "    </tr>\n",
       "    <tr>\n",
       "      <th>50%</th>\n",
       "      <td>0.000714</td>\n",
       "      <td>0.000741</td>\n",
       "      <td>0.003682</td>\n",
       "    </tr>\n",
       "    <tr>\n",
       "      <th>75%</th>\n",
       "      <td>0.011197</td>\n",
       "      <td>0.016934</td>\n",
       "      <td>0.020701</td>\n",
       "    </tr>\n",
       "    <tr>\n",
       "      <th>max</th>\n",
       "      <td>0.079452</td>\n",
       "      <td>0.101604</td>\n",
       "      <td>0.151870</td>\n",
       "    </tr>\n",
       "  </tbody>\n",
       "</table>\n",
       "</div>"
      ],
      "text/plain": [
       "          Close_0     Close_1     Close_2\n",
       "count  250.000000  250.000000  250.000000\n",
       "mean     0.001575    0.001414    0.004288\n",
       "std      0.017431    0.028313    0.028074\n",
       "min     -0.057387   -0.093311   -0.105412\n",
       "25%     -0.009147   -0.012552   -0.011019\n",
       "50%      0.000714    0.000741    0.003682\n",
       "75%      0.011197    0.016934    0.020701\n",
       "max      0.079452    0.101604    0.151870"
      ]
     },
     "execution_count": 23,
     "metadata": {},
     "output_type": "execute_result"
    }
   ],
   "source": [
    "combined_ret_ts.describe()"
   ]
  },
  {
   "cell_type": "code",
   "execution_count": 24,
   "id": "e81e8e0d",
   "metadata": {},
   "outputs": [
    {
     "ename": "NameError",
     "evalue": "name 'params_df' is not defined",
     "output_type": "error",
     "traceback": [
      "\u001b[1;31m---------------------------------------------------------------------------\u001b[0m",
      "\u001b[1;31mNameError\u001b[0m                                 Traceback (most recent call last)",
      "Cell \u001b[1;32mIn[24], line 1\u001b[0m\n\u001b[1;32m----> 1\u001b[0m \u001b[38;5;28mprint\u001b[39m(params_df)\n",
      "\u001b[1;31mNameError\u001b[0m: name 'params_df' is not defined"
     ]
    }
   ],
   "source": [
    "print(params_df)"
   ]
  },
  {
   "cell_type": "code",
   "execution_count": 25,
   "id": "fd7a7d00",
   "metadata": {},
   "outputs": [],
   "source": [
    "#Run GARCH using python inbuilt libraries\n",
    "from arch import arch_model"
   ]
  },
  {
   "cell_type": "code",
   "execution_count": 26,
   "id": "cb4eede8",
   "metadata": {},
   "outputs": [
    {
     "name": "stdout",
     "output_type": "stream",
     "text": [
      "Iteration:      1,   Func. Count:      6,   Neg. LLF: 3094018.808394216\n",
      "Iteration:      2,   Func. Count:     17,   Neg. LLF: 817052.2125003104\n",
      "Iteration:      3,   Func. Count:     28,   Neg. LLF: 22134.245858977745\n",
      "Iteration:      4,   Func. Count:     38,   Neg. LLF: -663.7040220405447\n",
      "Optimization terminated successfully    (Exit mode 0)\n",
      "            Current function value: -663.7040214725957\n",
      "            Iterations: 8\n",
      "            Function evaluations: 38\n",
      "            Gradient evaluations: 4\n",
      "Iteration:      1,   Func. Count:      6,   Neg. LLF: 816254.5916286993\n",
      "Iteration:      2,   Func. Count:     17,   Neg. LLF: 175.66727494045716\n",
      "Iteration:      3,   Func. Count:     26,   Neg. LLF: -535.865107677287\n",
      "Iteration:      4,   Func. Count:     32,   Neg. LLF: -536.2156565451132\n",
      "Iteration:      5,   Func. Count:     38,   Neg. LLF: -535.9296894650615\n",
      "Iteration:      6,   Func. Count:     44,   Neg. LLF: -535.8289107123782\n",
      "Iteration:      7,   Func. Count:     52,   Neg. LLF: -522.9030625557187\n",
      "Iteration:      8,   Func. Count:     58,   Neg. LLF: 3855886.0238519143\n",
      "Iteration:      9,   Func. Count:     69,   Neg. LLF: 309200847.9004779\n",
      "Iteration:     10,   Func. Count:     78,   Neg. LLF: -537.9420165758186\n",
      "Iteration:     11,   Func. Count:     83,   Neg. LLF: -536.7586036567368\n",
      "Iteration:     12,   Func. Count:     89,   Neg. LLF: 462.55097274411173\n",
      "Iteration:     13,   Func. Count:     95,   Neg. LLF: -538.0156186451507\n",
      "Optimization terminated successfully    (Exit mode 0)\n",
      "            Current function value: -538.0156196731983\n",
      "            Iterations: 17\n",
      "            Function evaluations: 95\n",
      "            Gradient evaluations: 13\n",
      "Iteration:      1,   Func. Count:      6,   Neg. LLF: 2714947.311967622\n",
      "Iteration:      2,   Func. Count:     17,   Neg. LLF: -344.2360936092326\n",
      "Iteration:      3,   Func. Count:     26,   Neg. LLF: -412.96256583193787\n",
      "Iteration:      4,   Func. Count:     33,   Neg. LLF: -541.3669066590496\n",
      "Iteration:      5,   Func. Count:     39,   Neg. LLF: -541.2386466756137\n",
      "Iteration:      6,   Func. Count:     46,   Neg. LLF: -541.7187223672171\n",
      "Iteration:      7,   Func. Count:     51,   Neg. LLF: -541.7187291561243\n",
      "Iteration:      8,   Func. Count:     55,   Neg. LLF: -541.7187291561042\n",
      "Optimization terminated successfully    (Exit mode 0)\n",
      "            Current function value: -541.7187291561243\n",
      "            Iterations: 8\n",
      "            Function evaluations: 55\n",
      "            Gradient evaluations: 8\n"
     ]
    },
    {
     "name": "stderr",
     "output_type": "stream",
     "text": [
      "C:\\Users\\nansv\\anaconda3\\Lib\\site-packages\\arch\\univariate\\base.py:311: DataScaleWarning: y is poorly scaled, which may affect convergence of the optimizer when\n",
      "estimating the model parameters. The scale of y is 0.0003026. Parameter\n",
      "estimation work better when this value is between 1 and 1000. The recommended\n",
      "rescaling is 100 * y.\n",
      "\n",
      "This warning can be disabled by either rescaling y before initializing the\n",
      "model or by setting rescale=False.\n",
      "\n",
      "  warnings.warn(\n",
      "C:\\Users\\nansv\\anaconda3\\Lib\\site-packages\\arch\\univariate\\base.py:311: DataScaleWarning: y is poorly scaled, which may affect convergence of the optimizer when\n",
      "estimating the model parameters. The scale of y is 0.0007984. Parameter\n",
      "estimation work better when this value is between 1 and 1000. The recommended\n",
      "rescaling is 100 * y.\n",
      "\n",
      "This warning can be disabled by either rescaling y before initializing the\n",
      "model or by setting rescale=False.\n",
      "\n",
      "  warnings.warn(\n",
      "C:\\Users\\nansv\\anaconda3\\Lib\\site-packages\\arch\\univariate\\base.py:311: DataScaleWarning: y is poorly scaled, which may affect convergence of the optimizer when\n",
      "estimating the model parameters. The scale of y is 0.000785. Parameter\n",
      "estimation work better when this value is between 1 and 1000. The recommended\n",
      "rescaling is 100 * y.\n",
      "\n",
      "This warning can be disabled by either rescaling y before initializing the\n",
      "model or by setting rescale=False.\n",
      "\n",
      "  warnings.warn(\n"
     ]
    }
   ],
   "source": [
    "#Run GARCH(1,1) through all the returns using in-built library\n",
    "params_df=pd.DataFrame()\n",
    "for col in combined_ret_ts.columns[1:]:\n",
    "    rets_to_fit=np.array(combined_ret_ts[col])\n",
    "    garchModel=arch_model(rets_to_fit, vol='GARCH', p=1,q=1 )\n",
    "    res=garchModel.fit()\n",
    "    params_df[col]=res.params\n",
    "\n",
    "#Label the rows as GARCH(1,1) parameters    \n",
    "params_df.index=['mean','alpha','beta','gamma']"
   ]
  },
  {
   "cell_type": "code",
   "execution_count": 27,
   "id": "e2a9f08a",
   "metadata": {},
   "outputs": [
    {
     "name": "stdout",
     "output_type": "stream",
     "text": [
      "       Close_0   Close_1   Close_2\n",
      "mean   0.00145  0.001247  0.005108\n",
      "alpha  0.00003  0.000033  0.000236\n",
      "beta   0.20000  0.000000  0.150172\n",
      "gamma  0.70000  0.961775  0.564043\n"
     ]
    }
   ],
   "source": [
    "print(params_df)"
   ]
  },
  {
   "cell_type": "code",
   "execution_count": 28,
   "id": "ba2277d3",
   "metadata": {},
   "outputs": [],
   "source": [
    "#Get iid residuals as defined by the model\n",
    "def garch_iid_residuals(params, rets_ts):\n",
    " \n",
    " var_lag=np.zeros(len(rets_ts))\n",
    " residuals_lag=np.zeros(len(rets_ts))\n",
    " iid_residuals_lag=np.zeros(len(rets_ts))\n",
    "    \n",
    " var_lag[0]=conditional_var(params[1], params[3],params[2],0, 0)  #Get the first conditional variance\n",
    " residuals_lag[0]=rets_ts[0]-params[0]\n",
    " iid_residuals_lag[0] =residuals_lag[0]/np.sqrt(var_lag[0])  \n",
    "\n",
    " for i in np.arange(1, len(rets_ts)):\n",
    "    var_lag[i]= conditional_var(params[1], params[3],params[2],var_lag[i-1], residuals_lag[i-1])\n",
    "    residuals_lag[i] =rets_ts[i]- params[0]\n",
    "    iid_residuals_lag[i] =residuals_lag[i]/np.sqrt(var_lag[i])\n",
    "    \n",
    " print(np.mean(iid_residuals_lag))\n",
    " print(np.std(iid_residuals_lag))\n",
    "    \n",
    " iid_residuals = (iid_residuals_lag - np.mean(iid_residuals_lag))/np.std(iid_residuals_lag)\n",
    "\n",
    " return iid_residuals"
   ]
  },
  {
   "cell_type": "code",
   "execution_count": 29,
   "id": "60b6ac76",
   "metadata": {},
   "outputs": [],
   "source": [
    "#Get iid residuals for all the return series\n",
    "def iid_residuals_ts(combined_ret_ts, params_df):\n",
    "    \n",
    "    iid_residuals_df=pd.DataFrame()\n",
    "    \n",
    "    for col in combined_ret_ts.columns[1:]:\n",
    "        rets_ts=np.array(combined_ret_ts[col])\n",
    "        params=np.array(params_df[col])\n",
    "        iid_residuals_df[col]=garch_iid_residuals(params,rets_ts)\n",
    "        \n",
    "    return iid_residuals_df    \n"
   ]
  },
  {
   "cell_type": "code",
   "execution_count": 30,
   "id": "fab2c123",
   "metadata": {},
   "outputs": [
    {
     "name": "stdout",
     "output_type": "stream",
     "text": [
      "-0.020046007690289365\n",
      "1.0600469329721263\n",
      "0.0019128379202784593\n",
      "1.0466730149730061\n",
      "-0.03738926430121215\n",
      "0.9977471919791516\n"
     ]
    }
   ],
   "source": [
    "all_iid_residuals=iid_residuals_ts(combined_ret_ts, params_df)"
   ]
  },
  {
   "cell_type": "code",
   "execution_count": 31,
   "id": "e51814d7",
   "metadata": {},
   "outputs": [
    {
     "data": {
      "text/html": [
       "<div>\n",
       "<style scoped>\n",
       "    .dataframe tbody tr th:only-of-type {\n",
       "        vertical-align: middle;\n",
       "    }\n",
       "\n",
       "    .dataframe tbody tr th {\n",
       "        vertical-align: top;\n",
       "    }\n",
       "\n",
       "    .dataframe thead th {\n",
       "        text-align: right;\n",
       "    }\n",
       "</style>\n",
       "<table border=\"1\" class=\"dataframe\">\n",
       "  <thead>\n",
       "    <tr style=\"text-align: right;\">\n",
       "      <th></th>\n",
       "      <th>Close_0</th>\n",
       "      <th>Close_1</th>\n",
       "      <th>Close_2</th>\n",
       "    </tr>\n",
       "  </thead>\n",
       "  <tbody>\n",
       "    <tr>\n",
       "      <th>0</th>\n",
       "      <td>-0.414051</td>\n",
       "      <td>2.558254</td>\n",
       "      <td>-0.124634</td>\n",
       "    </tr>\n",
       "    <tr>\n",
       "      <th>1</th>\n",
       "      <td>-0.009979</td>\n",
       "      <td>-2.084217</td>\n",
       "      <td>-0.346341</td>\n",
       "    </tr>\n",
       "    <tr>\n",
       "      <th>2</th>\n",
       "      <td>-1.945149</td>\n",
       "      <td>-0.528825</td>\n",
       "      <td>-0.441408</td>\n",
       "    </tr>\n",
       "    <tr>\n",
       "      <th>3</th>\n",
       "      <td>0.792887</td>\n",
       "      <td>-0.342893</td>\n",
       "      <td>0.230832</td>\n",
       "    </tr>\n",
       "    <tr>\n",
       "      <th>4</th>\n",
       "      <td>-1.720662</td>\n",
       "      <td>0.181418</td>\n",
       "      <td>-0.519220</td>\n",
       "    </tr>\n",
       "  </tbody>\n",
       "</table>\n",
       "</div>"
      ],
      "text/plain": [
       "    Close_0   Close_1   Close_2\n",
       "0 -0.414051  2.558254 -0.124634\n",
       "1 -0.009979 -2.084217 -0.346341\n",
       "2 -1.945149 -0.528825 -0.441408\n",
       "3  0.792887 -0.342893  0.230832\n",
       "4 -1.720662  0.181418 -0.519220"
      ]
     },
     "execution_count": 31,
     "metadata": {},
     "output_type": "execute_result"
    }
   ],
   "source": [
    "all_iid_residuals.head()"
   ]
  },
  {
   "cell_type": "code",
   "execution_count": 32,
   "id": "789c8a4f",
   "metadata": {},
   "outputs": [
    {
     "data": {
      "text/html": [
       "<div>\n",
       "<style scoped>\n",
       "    .dataframe tbody tr th:only-of-type {\n",
       "        vertical-align: middle;\n",
       "    }\n",
       "\n",
       "    .dataframe tbody tr th {\n",
       "        vertical-align: top;\n",
       "    }\n",
       "\n",
       "    .dataframe thead th {\n",
       "        text-align: right;\n",
       "    }\n",
       "</style>\n",
       "<table border=\"1\" class=\"dataframe\">\n",
       "  <thead>\n",
       "    <tr style=\"text-align: right;\">\n",
       "      <th></th>\n",
       "      <th>Close_0</th>\n",
       "      <th>Close_1</th>\n",
       "      <th>Close_2</th>\n",
       "    </tr>\n",
       "  </thead>\n",
       "  <tbody>\n",
       "    <tr>\n",
       "      <th>count</th>\n",
       "      <td>2.500000e+02</td>\n",
       "      <td>2.500000e+02</td>\n",
       "      <td>2.500000e+02</td>\n",
       "    </tr>\n",
       "    <tr>\n",
       "      <th>mean</th>\n",
       "      <td>1.776357e-18</td>\n",
       "      <td>2.842171e-17</td>\n",
       "      <td>-2.842171e-17</td>\n",
       "    </tr>\n",
       "    <tr>\n",
       "      <th>std</th>\n",
       "      <td>1.002006e+00</td>\n",
       "      <td>1.002006e+00</td>\n",
       "      <td>1.002006e+00</td>\n",
       "    </tr>\n",
       "    <tr>\n",
       "      <th>min</th>\n",
       "      <td>-3.263094e+00</td>\n",
       "      <td>-3.174517e+00</td>\n",
       "      <td>-3.947419e+00</td>\n",
       "    </tr>\n",
       "    <tr>\n",
       "      <th>25%</th>\n",
       "      <td>-5.678159e-01</td>\n",
       "      <td>-4.788860e-01</td>\n",
       "      <td>-5.511850e-01</td>\n",
       "    </tr>\n",
       "    <tr>\n",
       "      <th>50%</th>\n",
       "      <td>-2.421671e-02</td>\n",
       "      <td>-1.876713e-02</td>\n",
       "      <td>2.190971e-03</td>\n",
       "    </tr>\n",
       "    <tr>\n",
       "      <th>75%</th>\n",
       "      <td>6.377384e-01</td>\n",
       "      <td>5.424501e-01</td>\n",
       "      <td>5.770066e-01</td>\n",
       "    </tr>\n",
       "    <tr>\n",
       "      <th>max</th>\n",
       "      <td>4.234789e+00</td>\n",
       "      <td>3.266780e+00</td>\n",
       "      <td>4.810703e+00</td>\n",
       "    </tr>\n",
       "  </tbody>\n",
       "</table>\n",
       "</div>"
      ],
      "text/plain": [
       "            Close_0       Close_1       Close_2\n",
       "count  2.500000e+02  2.500000e+02  2.500000e+02\n",
       "mean   1.776357e-18  2.842171e-17 -2.842171e-17\n",
       "std    1.002006e+00  1.002006e+00  1.002006e+00\n",
       "min   -3.263094e+00 -3.174517e+00 -3.947419e+00\n",
       "25%   -5.678159e-01 -4.788860e-01 -5.511850e-01\n",
       "50%   -2.421671e-02 -1.876713e-02  2.190971e-03\n",
       "75%    6.377384e-01  5.424501e-01  5.770066e-01\n",
       "max    4.234789e+00  3.266780e+00  4.810703e+00"
      ]
     },
     "execution_count": 32,
     "metadata": {},
     "output_type": "execute_result"
    }
   ],
   "source": [
    "all_iid_residuals.describe()"
   ]
  },
  {
   "cell_type": "code",
   "execution_count": 33,
   "id": "31746570",
   "metadata": {},
   "outputs": [
    {
     "data": {
      "text/plain": [
       "<Axes: xlabel='Close_0', ylabel='Count'>"
      ]
     },
     "execution_count": 33,
     "metadata": {},
     "output_type": "execute_result"
    },
    {
     "data": {
      "image/png": "[encoded data removed]",
      "text/plain": [
       "<Figure size 640x480 with 1 Axes>"
      ]
     },
     "metadata": {},
     "output_type": "display_data"
    }
   ],
   "source": [
    "sbn.histplot(all_iid_residuals['Close_0'], kde=True)"
   ]
  },
  {
   "cell_type": "code",
   "execution_count": 55,
   "id": "0a7449c0",
   "metadata": {},
   "outputs": [
    {
     "ename": "AttributeError",
     "evalue": "'function' object has no attribute 'head'",
     "output_type": "error",
     "traceback": [
      "\u001b[1;31m---------------------------------------------------------------------------\u001b[0m",
      "\u001b[1;31mAttributeError\u001b[0m                            Traceback (most recent call last)",
      "Cell \u001b[1;32mIn[55], line 1\u001b[0m\n\u001b[1;32m----> 1\u001b[0m iid_residuals_ts\u001b[38;5;241m.\u001b[39mhead()\n",
      "\u001b[1;31mAttributeError\u001b[0m: 'function' object has no attribute 'head'"
     ]
    }
   ],
   "source": [
    "iid_residuals_ts.head()"
   ]
  },
  {
   "cell_type": "code",
   "execution_count": 61,
   "id": "c5eab7be",
   "metadata": {},
   "outputs": [],
   "source": [
    "#Function to get flexible probabilities\n",
    "def flex_prob(half_life, num_days):\n",
    "    \n",
    "    time_flex_prob= np.exp((-np.log(2)/half_life)*np.arange(num_days,0,-1))\n",
    "    scale_to_one=1/np.sum(time_flex_prob)\n",
    "     \n",
    "    return scale_to_one*time_flex_prob\n",
    "    "
   ]
  },
  {
   "cell_type": "code",
   "execution_count": 63,
   "id": "207527ba",
   "metadata": {},
   "outputs": [
    {
     "data": {
      "text/plain": [
       "[<matplotlib.lines.Line2D at 0x1418e404610>]"
      ]
     },
     "execution_count": 63,
     "metadata": {},
     "output_type": "execute_result"
    },
    {
     "data": {
      "image/png": "[encoded data removed]",
      "text/plain": [
       "<Figure size 640x480 with 1 Axes>"
      ]
     },
     "metadata": {},
     "output_type": "display_data"
    }
   ],
   "source": [
    "plt.plot(flex_prob(all_iid_residuals.shape[0]/2,all_iid_residuals.shape[0]))"
   ]
  },
  {
   "cell_type": "code",
   "execution_count": 133,
   "id": "294d230a",
   "metadata": {},
   "outputs": [],
   "source": [
    "#Fit t-distribution on iid residuals\n",
    "#Find degrees of freedom with maximum liklihood estimate\n",
    "#Return estimated dof & cdf for the time-series\n",
    "def get_uniform_tcopula(iid_residuals_ts):\n",
    "   \n",
    "   dof=np.arange(3,31) #degres of freedom to try\n",
    "   mle_dof=np.zeros((iid_residuals_ts.shape[1],len(dof)))\n",
    "\n",
    "   num_ts=len(iid_residuals_ts.columns)\n",
    "   fitted_uniform=np.zeros((iid_residuals_ts.shape[1],iid_residuals_ts.shape[0]))\n",
    "   cdf_ts=pd.DataFrame()\n",
    " \n",
    "   fp=flex_prob(iid_residuals_ts.shape[0]/2,iid_residuals_ts.shape[0])\n",
    "\n",
    "   #For each return series, construct MLE arrays \n",
    "   for col, j in zip(iid_residuals_ts.columns, np.arange(0,num_ts)):\n",
    "        ret=iid_residuals_ts[col]\n",
    "        fp_mean=np.dot(ret,fp)\n",
    "        fp_var=np.dot((ret-fp_mean)**2, fp)\n",
    "        print(fp_mean)\n",
    "        print(np.sqrt(fp_var))\n",
    "                \n",
    "               \n",
    "        #For each degree of freedom, find log LE   \n",
    "        for k in np.arange(0, len(dof)):\n",
    "           t_dist=stats.t(dof[k], loc=fp_mean, scale=np.sqrt((dof[k]-2)/dof[k])*fp_var) \n",
    "           mle_dof[j][k]=np.sum([t_dist.logpdf(ret) for ret in iid_residuals_ts[col]])\n",
    "     \n",
    "        #Find max LE \n",
    "        max_idx=np.argsort(mle_dof[j])[::-1][0]\n",
    "        fitted_nu=max_idx+3\n",
    "        \n",
    "        #Find CDF with fitted dof\n",
    "        fitted_t_dist=stats.t(fitted_nu)\n",
    "        uniform_residuals=[fitted_t_dist.cdf(ret)for ret in iid_residuals_ts[col]]  \n",
    "        fitted_uniform[j][:]=uniform_residuals\n",
    "\n",
    "   return mle_dof, fitted_uniform\n",
    "    "
   ]
  },
  {
   "cell_type": "code",
   "execution_count": 143,
   "id": "ef6e7980",
   "metadata": {},
   "outputs": [],
   "source": [
    "#Generate any distribution invariants using uniform residuals\n",
    "def get_inverse_copula_invariants(uniform_residuals):\n",
    "    \n",
    "    #Initiale matrix of t-distribution residuals with dof=4\n",
    "    t_dof4_residuals=np.zeros((uniform_residuals.shape[0], uniform_residuals.shape[1]))\n",
    "    \n",
    "    for count in np.arange(0, uniform_residuals.shape[0]):\n",
    "        #Get t-distribution invariants with dof=4\n",
    "        t_dist_df4=stats.t(4)\n",
    "        t_dof4_residuals[count][:]=t_dist_df4.ppf(uniform_residuals[count])\n",
    "        \n",
    "    return t_dof4_residuals"
   ]
  },
  {
   "cell_type": "code",
   "execution_count": 142,
   "id": "eaeee9d6",
   "metadata": {},
   "outputs": [
    {
     "data": {
      "text/plain": [
       "(3, 250)"
      ]
     },
     "execution_count": 142,
     "metadata": {},
     "output_type": "execute_result"
    }
   ],
   "source": [
    "uniform_residuals.shape"
   ]
  },
  {
   "cell_type": "code",
   "execution_count": 134,
   "id": "c36fd8d4",
   "metadata": {},
   "outputs": [
    {
     "name": "stdout",
     "output_type": "stream",
     "text": [
      "0.005801352024618248\n",
      "0.9670210217380937\n",
      "-0.004472910780478588\n",
      "0.9662076647666503\n",
      "0.02802113392172946\n",
      "1.0417197245460625\n"
     ]
    }
   ],
   "source": [
    "mle_copula, uniform_residuals=get_uniform_tcopula(all_iid_residuals)"
   ]
  },
  {
   "cell_type": "code",
   "execution_count": 141,
   "id": "56c957ea",
   "metadata": {},
   "outputs": [
    {
     "data": {
      "text/plain": [
       "array([[1.        , 0.57333217],\n",
       "       [0.57333217, 1.        ]])"
      ]
     },
     "execution_count": 141,
     "metadata": {},
     "output_type": "execute_result"
    }
   ],
   "source": [
    "np.corrcoef(uniform_residuals[2], uniform_residuals[1])"
   ]
  },
  {
   "cell_type": "code",
   "execution_count": 169,
   "id": "5f571b07",
   "metadata": {},
   "outputs": [
    {
     "data": {
      "text/plain": [
       "pandas.core.frame.DataFrame"
      ]
     },
     "execution_count": 169,
     "metadata": {},
     "output_type": "execute_result"
    }
   ],
   "source": [
    "all_iid_residuals.corr()"
   ]
  },
  {
   "cell_type": "code",
   "execution_count": 111,
   "id": "fcaaacfc",
   "metadata": {},
   "outputs": [
    {
     "name": "stdout",
     "output_type": "stream",
     "text": [
      "[[-367.29835533 -355.33560843 -352.16420674 -351.0026512  -350.5505554\n",
      "  -350.40506714 -350.40725296 -350.48457517 -350.60062251 -350.7359059\n",
      "  -350.87953771 -351.02527605 -351.16950566 -351.31014852 -351.44604932\n",
      "  -351.57661628 -351.70160509 -351.82098589 -351.9348599  -352.04340651\n",
      "  -352.14684931 -352.24543428 -352.33941574 -352.42904744 -352.51457696\n",
      "  -352.59624232 -352.67427008 -352.74887445]\n",
      " [-354.49615406 -347.6542815  -346.71401909 -346.83679605 -347.22836089\n",
      "  -347.6814086  -348.13015948 -348.55272587 -348.94286447 -349.30028924\n",
      "  -349.62696869 -349.92561492 -350.1990504  -350.44994805 -350.68073609\n",
      "  -350.89357625 -351.09037396 -351.2728012  -351.44232301 -351.60022356\n",
      "  -351.74763016 -351.88553443 -352.01481084 -352.13623261 -352.25048531\n",
      "  -352.35817853 -352.45985581 -352.55600311]\n",
      " [-351.68497672 -347.000681   -346.88919319 -347.39047435 -347.96643792\n",
      "  -348.50926596 -348.99820828 -349.43383685 -349.82188202 -350.16875003\n",
      "  -350.48027715 -350.76146184 -351.01649533 -351.24887197 -351.46150794\n",
      "  -351.65684661 -351.8369462  -352.00355059 -352.15814619 -352.30200732\n",
      "  -352.43623259 -352.56177417 -352.67946147 -352.79002039 -352.89408907\n",
      "  -352.99223084 -353.08494494 -353.17267547]]\n"
     ]
    }
   ],
   "source": [
    "print(mle_copula)"
   ]
  },
  {
   "cell_type": "code",
   "execution_count": 115,
   "id": "de410c4c",
   "metadata": {},
   "outputs": [
    {
     "data": {
      "text/plain": [
       "array([ 0,  1, 27, 26, 25, 24, 23, 22, 21,  2, 20, 19, 18, 17, 16, 15, 14,\n",
       "       13, 12, 11,  3, 10,  9,  8,  4,  7,  6,  5], dtype=int64)"
      ]
     },
     "execution_count": 115,
     "metadata": {},
     "output_type": "execute_result"
    }
   ],
   "source": [
    "np.argsort(mle_copula[0])"
   ]
  },
  {
   "cell_type": "code",
   "execution_count": 113,
   "id": "21f15e63",
   "metadata": {},
   "outputs": [
    {
     "data": {
      "text/plain": [
       "[<matplotlib.lines.Line2D at 0x141917ca0d0>]"
      ]
     },
     "execution_count": 113,
     "metadata": {},
     "output_type": "execute_result"
    },
    {
     "data": {
      "image/png": "[encoded data removed]",
      "text/plain": [
       "<Figure size 640x480 with 1 Axes>"
      ]
     },
     "metadata": {},
     "output_type": "display_data"
    }
   ],
   "source": [
    "plt.plot(mle_copula[0])"
   ]
  },
  {
   "cell_type": "code",
   "execution_count": 116,
   "id": "0166d487",
   "metadata": {},
   "outputs": [
    {
     "data": {
      "text/plain": [
       "[<matplotlib.lines.Line2D at 0x1418f4476d0>]"
      ]
     },
     "execution_count": 116,
     "metadata": {},
     "output_type": "execute_result"
    },
    {
     "data": {
      "image/png": "[encoded data removed]",
      "text/plain": [
       "<Figure size 640x480 with 1 Axes>"
      ]
     },
     "metadata": {},
     "output_type": "display_data"
    }
   ],
   "source": [
    "plt.plot(mle_copula[1])"
   ]
  },
  {
   "cell_type": "code",
   "execution_count": 50,
   "id": "c3e495b2",
   "metadata": {},
   "outputs": [
    {
     "data": {
      "text/plain": [
       "2.0"
      ]
     },
     "execution_count": 50,
     "metadata": {},
     "output_type": "execute_result"
    }
   ],
   "source": [
    "stats.t.moment(2,4)"
   ]
  },
  {
   "cell_type": "code",
   "execution_count": 148,
   "id": "14f5b06f",
   "metadata": {},
   "outputs": [],
   "source": [
    "t_residuals=get_inverse_copula_invariants(uniform_residuals)\n"
   ]
  },
  {
   "cell_type": "code",
   "execution_count": 150,
   "id": "355db049",
   "metadata": {},
   "outputs": [
    {
     "data": {
      "text/plain": [
       "<Axes: ylabel='Count'>"
      ]
     },
     "execution_count": 150,
     "metadata": {},
     "output_type": "execute_result"
    },
    {
     "data": {
      "image/png": "[encoded data removed]",
      "text/plain": [
       "<Figure size 640x480 with 1 Axes>"
      ]
     },
     "metadata": {},
     "output_type": "display_data"
    }
   ],
   "source": [
    "sbn.histplot(t_residuals[0], kde=True)"
   ]
  },
  {
   "cell_type": "code",
   "execution_count": 156,
   "id": "9e89d3bb",
   "metadata": {},
   "outputs": [
    {
     "data": {
      "text/plain": [
       "1.3982405376961227"
      ]
     },
     "execution_count": 156,
     "metadata": {},
     "output_type": "execute_result"
    }
   ],
   "source": [
    "np.var(t_residuals[0])"
   ]
  },
  {
   "cell_type": "code",
   "execution_count": 158,
   "id": "0ecf7c84",
   "metadata": {},
   "outputs": [
    {
     "data": {
      "text/plain": [
       "array([[1.        , 0.44613356],\n",
       "       [0.44613356, 1.        ]])"
      ]
     },
     "execution_count": 158,
     "metadata": {},
     "output_type": "execute_result"
    }
   ],
   "source": [
    "np.corrcoef(t_residuals[0],t_residuals[1])"
   ]
  },
  {
   "cell_type": "code",
   "execution_count": 159,
   "id": "9a7aef51",
   "metadata": {},
   "outputs": [
    {
     "data": {
      "text/plain": [
       "array([[1.        , 0.56613941],\n",
       "       [0.56613941, 1.        ]])"
      ]
     },
     "execution_count": 159,
     "metadata": {},
     "output_type": "execute_result"
    }
   ],
   "source": [
    "np.corrcoef(t_residuals[2],t_residuals[1])"
   ]
  },
  {
   "cell_type": "code",
   "execution_count": 162,
   "id": "a9f8e9d1",
   "metadata": {},
   "outputs": [],
   "source": [
    "t_residuals_df=pd.DataFrame(t_residuals.T)"
   ]
  },
  {
   "cell_type": "code",
   "execution_count": 167,
   "id": "b08a2c21",
   "metadata": {},
   "outputs": [
    {
     "data": {
      "text/html": [
       "<div>\n",
       "<style scoped>\n",
       "    .dataframe tbody tr th:only-of-type {\n",
       "        vertical-align: middle;\n",
       "    }\n",
       "\n",
       "    .dataframe tbody tr th {\n",
       "        vertical-align: top;\n",
       "    }\n",
       "\n",
       "    .dataframe thead th {\n",
       "        text-align: right;\n",
       "    }\n",
       "</style>\n",
       "<table border=\"1\" class=\"dataframe\">\n",
       "  <thead>\n",
       "    <tr style=\"text-align: right;\">\n",
       "      <th></th>\n",
       "      <th>0</th>\n",
       "      <th>1</th>\n",
       "      <th>2</th>\n",
       "    </tr>\n",
       "  </thead>\n",
       "  <tbody>\n",
       "    <tr>\n",
       "      <th>0</th>\n",
       "      <td>-0.429452</td>\n",
       "      <td>2.761831</td>\n",
       "      <td>-0.126192</td>\n",
       "    </tr>\n",
       "    <tr>\n",
       "      <th>1</th>\n",
       "      <td>-0.010290</td>\n",
       "      <td>-2.210550</td>\n",
       "      <td>-0.351159</td>\n",
       "    </tr>\n",
       "    <tr>\n",
       "      <th>2</th>\n",
       "      <td>-2.249986</td>\n",
       "      <td>-0.537308</td>\n",
       "      <td>-0.447992</td>\n",
       "    </tr>\n",
       "    <tr>\n",
       "      <th>3</th>\n",
       "      <td>0.834944</td>\n",
       "      <td>-0.347652</td>\n",
       "      <td>0.233835</td>\n",
       "    </tr>\n",
       "    <tr>\n",
       "      <th>4</th>\n",
       "      <td>-1.945308</td>\n",
       "      <td>0.183728</td>\n",
       "      <td>-0.527480</td>\n",
       "    </tr>\n",
       "  </tbody>\n",
       "</table>\n",
       "</div>"
      ],
      "text/plain": [
       "          0         1         2\n",
       "0 -0.429452  2.761831 -0.126192\n",
       "1 -0.010290 -2.210550 -0.351159\n",
       "2 -2.249986 -0.537308 -0.447992\n",
       "3  0.834944 -0.347652  0.233835\n",
       "4 -1.945308  0.183728 -0.527480"
      ]
     },
     "execution_count": 167,
     "metadata": {},
     "output_type": "execute_result"
    }
   ],
   "source": [
    "t_residuals_df.head()"
   ]
  },
  {
   "cell_type": "code",
   "execution_count": 174,
   "id": "10da5bb7",
   "metadata": {},
   "outputs": [],
   "source": [
    "#Generate random variables based on t-distribution with dof\n",
    "def generate_random_variates(timeseries_data, num_scenarios):\n",
    "    \n",
    "    num_ts=timeseries_data.shape[0] #Number of risk factors\n",
    "    \n",
    "    #Create correlation matrix from the time series data\n",
    "    corr_matrix=np.corrcoef(timeseries_data)\n",
    "        \n",
    "    random_t_variates=stats.multivariate_t.rvs(loc=np.zeros(num_ts), shape=corr_matrix, df=4, size=num_scenarios)\n",
    "    \n",
    "    return random_t_variates"
   ]
  },
  {
   "cell_type": "code",
   "execution_count": 172,
   "id": "ad274b50",
   "metadata": {},
   "outputs": [
    {
     "data": {
      "text/plain": [
       "array([[-0.10767506,  0.89412106],\n",
       "       [ 0.87329334, -0.17194621],\n",
       "       [ 0.0863306 ,  0.22268463],\n",
       "       [-0.02620802,  0.3553088 ],\n",
       "       [-2.39434671, -2.85740942],\n",
       "       [-0.22218081,  0.36734288],\n",
       "       [-0.62583791, -0.03212433],\n",
       "       [-0.18471928,  1.6035713 ],\n",
       "       [-1.5846651 ,  0.56472732],\n",
       "       [-0.21656956, -0.96785762]])"
      ]
     },
     "execution_count": 172,
     "metadata": {},
     "output_type": "execute_result"
    }
   ],
   "source": [
    "stats.multivariate_t.rvs(loc=np.zeros(2), df=4, size=10)"
   ]
  },
  {
   "cell_type": "code",
   "execution_count": 176,
   "id": "386ff54b",
   "metadata": {},
   "outputs": [
    {
     "data": {
      "text/plain": [
       "array([[ 0.16989781, -0.45926565, -0.45798636],\n",
       "       [ 1.52102282, -0.41216049, -0.27369919],\n",
       "       [-2.24445715, -2.28676755, -1.21692828],\n",
       "       [-0.71950091, -1.29333944, -0.80362525],\n",
       "       [ 0.51218689,  2.05544689,  2.24642568],\n",
       "       [-2.32218465, -0.33457398, -0.53776196],\n",
       "       [ 0.14848463,  0.45956517,  1.5907815 ],\n",
       "       [ 1.9050809 ,  0.52198076,  0.49541504],\n",
       "       [-0.68462461,  0.0723219 , -1.57228252],\n",
       "       [-1.17870502,  1.12227273,  2.74284892]])"
      ]
     },
     "execution_count": 176,
     "metadata": {},
     "output_type": "execute_result"
    }
   ],
   "source": [
    "generate_random_variates(t_residuals, 10)"
   ]
  },
  {
   "cell_type": "code",
   "execution_count": null,
   "id": "2c478d88",
   "metadata": {},
   "outputs": [],
   "source": []
  }
 ],
 "metadata": {
  "kernelspec": {
   "display_name": "Python 3 (ipykernel)",
   "language": "python",
   "name": "python3"
  },
  "language_info": {
   "codemirror_mode": {
    "name": "ipython",
    "version": 3
   },
   "file_extension": ".py",
   "mimetype": "text/x-python",
   "name": "python",
   "nbconvert_exporter": "python",
   "pygments_lexer": "ipython3",
   "version": "3.11.5"
  }
 },
 "nbformat": 4,
 "nbformat_minor": 5
}
