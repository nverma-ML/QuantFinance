{
 "cells": [
  {
   "cell_type": "code",
   "execution_count": 1,
   "id": "5232c09c",
   "metadata": {},
   "outputs": [
    {
     "name": "stdout",
     "output_type": "stream",
     "text": [
      "importing Jupyter notebook from FinTimeSeries.ipynb\n"
     ]
    }
   ],
   "source": [
    "#Import important libraries\n",
    "import numpy as np\n",
    "import pandas as pd\n",
    "import import_ipynb\n",
    "import FinTimeSeries as fst #Notebook with GARCH model"
   ]
  },
  {
   "cell_type": "code",
   "execution_count": 2,
   "id": "054ddbc3",
   "metadata": {},
   "outputs": [],
   "source": [
    "#Read equities data\n",
    "amzn = pd.read_csv('AMZN.csv')\n",
    "amd = pd.read_csv('AMD.csv')\n",
    "nvda = pd.read_csv('NVDA.csv')\n"
   ]
  },
  {
   "cell_type": "code",
   "execution_count": 3,
   "id": "c800eb7f-48fd-47a2-87a1-f6fb212bdb60",
   "metadata": {},
   "outputs": [],
   "source": [
    "#Get the common dates/indexes between the equities\n",
    "amzn_dates=pd.to_datetime(amzn['Date'])\n",
    "amd_dates=pd.to_datetime(amd['Date'])\n",
    "nvda_dates=pd.to_datetime(nvda['Date'])"
   ]
  },
  {
   "cell_type": "code",
   "execution_count": 4,
   "id": "e777ab63-742a-4fed-9074-6fad9319ab3c",
   "metadata": {},
   "outputs": [
    {
     "data": {
      "text/plain": [
       "pandas._libs.tslibs.timestamps.Timestamp"
      ]
     },
     "execution_count": 4,
     "metadata": {},
     "output_type": "execute_result"
    }
   ],
   "source": [
    "type(amzn_dates[0])"
   ]
  },
  {
   "cell_type": "code",
   "execution_count": 5,
   "id": "5a2331d6",
   "metadata": {},
   "outputs": [],
   "source": [
    "#Convert prices into log-returns\n",
    "amzn_rets=np.diff(np.log(amzn['Adj Close']))\n",
    "amd_rets=np.diff(np.log(amd['Adj Close']))\n",
    "nvda_rets=np.diff(np.log(nvda['Adj Close']))                 "
   ]
  },
  {
   "cell_type": "code",
   "execution_count": 6,
   "id": "bb894e6f",
   "metadata": {},
   "outputs": [
    {
     "data": {
      "text/plain": [
       "array([-0.00107453,  0.00122797, -0.01561448,  0.01100188, -0.02063054])"
      ]
     },
     "execution_count": 6,
     "metadata": {},
     "output_type": "execute_result"
    }
   ],
   "source": [
    "amzn_rets[0:5]"
   ]
  },
  {
   "cell_type": "code",
   "execution_count": 5,
   "id": "b2a96757",
   "metadata": {},
   "outputs": [],
   "source": [
    "#Create financial time series objects from the log-returns\n",
    "amzn_ts=fst.__FinTimeSeries__(amzn_rets)\n",
    "amd_ts=fst.__FinTimeSeries__(amd_rets)\n",
    "nvda_ts=fst.__FinTimeSeries__(nvda_rets)"
   ]
  },
  {
   "cell_type": "code",
   "execution_count": 6,
   "id": "e559cf58",
   "metadata": {},
   "outputs": [
    {
     "name": "stdout",
     "output_type": "stream",
     "text": [
      "Iteration:      1,   Func. Count:      7,   Neg. LLF: 19215.107997814317\n",
      "Iteration:      2,   Func. Count:     23,   Neg. LLF: 19477.21504696022\n",
      "Iteration:      3,   Func. Count:     39,   Neg. LLF: 2056.035887514414\n",
      "Iteration:      4,   Func. Count:     48,   Neg. LLF: 15380.09292619798\n",
      "Iteration:      5,   Func. Count:     61,   Neg. LLF: 823.2738665225245\n",
      "Optimization terminated successfully    (Exit mode 0)\n",
      "            Current function value: -669.2922968370119\n",
      "            Iterations: 7\n",
      "            Function evaluations: 68\n",
      "            Gradient evaluations: 5\n"
     ]
    },
    {
     "name": "stderr",
     "output_type": "stream",
     "text": [
      "C:\\Users\\nansv\\anaconda3\\Lib\\site-packages\\arch\\univariate\\base.py:311: DataScaleWarning: y is poorly scaled, which may affect convergence of the optimizer when\n",
      "estimating the model parameters. The scale of y is 0.0003026. Parameter\n",
      "estimation work better when this value is between 1 and 1000. The recommended\n",
      "rescaling is 100 * y.\n",
      "\n",
      "This warning can be disabled by either rescaling y before initializing the\n",
      "model or by setting rescale=False.\n",
      "\n",
      "  warnings.warn(\n"
     ]
    }
   ],
   "source": [
    "amzn_ts.fitGARCH()"
   ]
  },
  {
   "cell_type": "code",
   "execution_count": null,
   "id": "7d27d871",
   "metadata": {},
   "outputs": [],
   "source": []
  }
 ],
 "metadata": {
  "kernelspec": {
   "display_name": "Python 3 (ipykernel)",
   "language": "python",
   "name": "python3"
  },
  "language_info": {
   "codemirror_mode": {
    "name": "ipython",
    "version": 3
   },
   "file_extension": ".py",
   "mimetype": "text/x-python",
   "name": "python",
   "nbconvert_exporter": "python",
   "pygments_lexer": "ipython3",
   "version": "3.11.5"
  }
 },
 "nbformat": 4,
 "nbformat_minor": 5
}
