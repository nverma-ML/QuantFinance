{
 "cells": [
  {
   "cell_type": "code",
   "execution_count": 2,
   "id": "8ef82e52-7931-4581-b194-ba7315e0983f",
   "metadata": {},
   "outputs": [
    {
     "name": "stdout",
     "output_type": "stream",
     "text": [
      "Collecting arch\n",
      "  Downloading arch-7.0.0-cp312-cp312-win_amd64.whl.metadata (13 kB)\n",
      "Requirement already satisfied: numpy>=1.22.3 in c:\\users\\nansv\\anaconda3\\lib\\site-packages (from arch) (1.26.4)\n",
      "Requirement already satisfied: scipy>=1.8 in c:\\users\\nansv\\anaconda3\\lib\\site-packages (from arch) (1.13.1)\n",
      "Requirement already satisfied: pandas>=1.4 in c:\\users\\nansv\\anaconda3\\lib\\site-packages (from arch) (2.2.2)\n",
      "Requirement already satisfied: statsmodels>=0.12 in c:\\users\\nansv\\anaconda3\\lib\\site-packages (from arch) (0.14.2)\n",
      "Requirement already satisfied: python-dateutil>=2.8.2 in c:\\users\\nansv\\anaconda3\\lib\\site-packages (from pandas>=1.4->arch) (2.9.0.post0)\n",
      "Requirement already satisfied: pytz>=2020.1 in c:\\users\\nansv\\anaconda3\\lib\\site-packages (from pandas>=1.4->arch) (2024.1)\n",
      "Requirement already satisfied: tzdata>=2022.7 in c:\\users\\nansv\\anaconda3\\lib\\site-packages (from pandas>=1.4->arch) (2023.3)\n",
      "Requirement already satisfied: patsy>=0.5.6 in c:\\users\\nansv\\anaconda3\\lib\\site-packages (from statsmodels>=0.12->arch) (0.5.6)\n",
      "Requirement already satisfied: packaging>=21.3 in c:\\users\\nansv\\anaconda3\\lib\\site-packages (from statsmodels>=0.12->arch) (23.2)\n",
      "Requirement already satisfied: six in c:\\users\\nansv\\anaconda3\\lib\\site-packages (from patsy>=0.5.6->statsmodels>=0.12->arch) (1.16.0)\n",
      "Downloading arch-7.0.0-cp312-cp312-win_amd64.whl (924 kB)\n",
      "   ---------------------------------------- 0.0/924.2 kB ? eta -:--:--\n",
      "    -------------------------------------- 20.5/924.2 kB 640.0 kB/s eta 0:00:02\n",
      "   -- ------------------------------------ 61.4/924.2 kB 812.7 kB/s eta 0:00:02\n",
      "   ----- ---------------------------------- 122.9/924.2 kB 1.0 MB/s eta 0:00:01\n",
      "   ------- -------------------------------- 184.3/924.2 kB 1.1 MB/s eta 0:00:01\n",
      "   ---------- ----------------------------- 235.5/924.2 kB 1.1 MB/s eta 0:00:01\n",
      "   ------------- -------------------------- 307.2/924.2 kB 1.2 MB/s eta 0:00:01\n",
      "   --------------- ------------------------ 348.2/924.2 kB 1.1 MB/s eta 0:00:01\n",
      "   ----------------- ---------------------- 399.4/924.2 kB 1.2 MB/s eta 0:00:01\n",
      "   ----------------- ---------------------- 399.4/924.2 kB 1.2 MB/s eta 0:00:01\n",
      "   ----------------- ---------------------- 399.4/924.2 kB 1.2 MB/s eta 0:00:01\n",
      "   ----------------- ---------------------- 399.4/924.2 kB 1.2 MB/s eta 0:00:01\n",
      "   ----------------- ---------------------- 399.4/924.2 kB 1.2 MB/s eta 0:00:01\n",
      "   ------------------- ------------------ 471.0/924.2 kB 775.8 kB/s eta 0:00:01\n",
      "   --------------------- ---------------- 512.0/924.2 kB 782.8 kB/s eta 0:00:01\n",
      "   ----------------------- -------------- 583.7/924.2 kB 833.5 kB/s eta 0:00:01\n",
      "   -------------------------- ----------- 634.9/924.2 kB 868.8 kB/s eta 0:00:01\n",
      "   --------------------------- ---------- 675.8/924.2 kB 851.1 kB/s eta 0:00:01\n",
      "   ------------------------------ ------- 747.5/924.2 kB 906.9 kB/s eta 0:00:01\n",
      "   --------------------------------- ---- 809.0/924.2 kB 928.7 kB/s eta 0:00:01\n",
      "   ------------------------------------ - 880.6/924.2 kB 944.0 kB/s eta 0:00:01\n",
      "   -------------------------------------  921.6/924.2 kB 956.3 kB/s eta 0:00:01\n",
      "   -------------------------------------- 924.2/924.2 kB 927.9 kB/s eta 0:00:00\n",
      "Installing collected packages: arch\n",
      "Successfully installed arch-7.0.0\n"
     ]
    }
   ],
   "source": [
    "!pip install arch"
   ]
  },
  {
   "cell_type": "code",
   "execution_count": 4,
   "id": "2087df12",
   "metadata": {},
   "outputs": [],
   "source": [
    "from arch import arch_model\n",
    "import numpy as np\n",
    "from statsmodels.tsa.ar_model import AutoReg"
   ]
  },
  {
   "cell_type": "code",
   "execution_count": 5,
   "id": "257db869",
   "metadata": {},
   "outputs": [],
   "source": [
    "class __FinTimeSeries__ :\n",
    "                     \n",
    "    def __init__(self, fin_time_series):\n",
    "        self.fin_time_series=fin_time_series\n",
    "        \n",
    "    def fitGARCH(self):\n",
    "        garch_model = arch_model(self.fin_time_series, vol='GARCH', p=1, q=1)\n",
    "        self.garch_fit=garch_model.fit()\n",
    "        self.conditional_vol=self.garch_fit.conditional_volatility\n",
    "        self.main_residuals=self.garch_fit.resid\n",
    "        \n",
    "    def fitARModel(self, lag):\n",
    "        arModel = AutoReg(self.fin_time_serie, lags=lag)\n",
    "        arModel.fit()\n",
    "        arModel.ar_lags\n",
    "              \n",
    "    def get_garch_params(self):\n",
    "        return self.garch_fit.params\n",
    "            \n",
    "    def get_conditional_vol(self):\n",
    "        return self.conditional_vol\n",
    "    \n",
    "    def get_main_residuals(self):\n",
    "        return self.main_residuals\n",
    "\n",
    "    def get_iid_residuals(self):\n",
    "        return np.divide(self.main_residuals, self.conditional_vol)\n",
    "    \n",
    "    def print_ts(self):\n",
    "        print(self.fin_time_series)"
   ]
  }
 ],
 "metadata": {
  "kernelspec": {
   "display_name": "Python 3 (ipykernel)",
   "language": "python",
   "name": "python3"
  },
  "language_info": {
   "codemirror_mode": {
    "name": "ipython",
    "version": 3
   },
   "file_extension": ".py",
   "mimetype": "text/x-python",
   "name": "python",
   "nbconvert_exporter": "python",
   "pygments_lexer": "ipython3",
   "version": "3.12.4"
  }
 },
 "nbformat": 4,
 "nbformat_minor": 5
}
