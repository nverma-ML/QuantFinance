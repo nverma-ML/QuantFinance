{
 "cells": [
  {
   "cell_type": "code",
   "execution_count": 1,
   "id": "a8f44d27-47c8-47e3-ad02-906e243cfdb7",
   "metadata": {},
   "outputs": [],
   "source": [
    "#Import python libraries\n",
    "import numpy as np\n",
    "import scipy.stats as stats"
   ]
  },
  {
   "cell_type": "code",
   "execution_count": null,
   "id": "d43e022a",
   "metadata": {},
   "outputs": [],
   "source": [
    "class tCopula:\n",
    "    \n",
    "    dof=4 #default degrees of freedom defined \n",
    "    \n",
    "    def __init__(self, corrMatrix):\n",
    "        self.corrMatrix=corrMatrix\n",
    "                   \n",
    "    #Generate random variables based on t-distribution with default dof\n",
    "    def generate_random_variates(self, num_ts, num_scenarios):\n",
    "      '''\n",
    "        num_ts: number of risk factors/time-series\n",
    "        num_scenarios: number of scenarios\n",
    "      '''    \n",
    "        random_t_variates=stats.multivariate_t.rvs(loc=np.zeros(num_ts), shape=self.corrMatrix, df=dof, size=num_scenarios)\n",
    "        return random_t_variates\n",
    "        "
   ]
  }
 ],
 "metadata": {
  "kernelspec": {
   "display_name": "Python 3 (ipykernel)",
   "language": "python",
   "name": "python3"
  },
  "language_info": {
   "codemirror_mode": {
    "name": "ipython",
    "version": 3
   },
   "file_extension": ".py",
   "mimetype": "text/x-python",
   "name": "python",
   "nbconvert_exporter": "python",
   "pygments_lexer": "ipython3",
   "version": "3.11.7"
  }
 },
 "nbformat": 4,
 "nbformat_minor": 5
}
