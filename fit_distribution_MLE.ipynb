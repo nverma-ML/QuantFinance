{
 "cells": [
  {
   "cell_type": "code",
   "execution_count": 2,
   "id": "ec9310e5",
   "metadata": {},
   "outputs": [],
   "source": [
    "#Import important libraries\n",
    "import numpy as np\n",
    "import scipy.stats as stats"
   ]
  },
  {
   "cell_type": "code",
   "execution_count": 2,
   "id": "08dd3275",
   "metadata": {},
   "outputs": [],
   "source": [
    "#Define a function to find best t-distribution that fits the data\n",
    "#Find degrees of freedom with maximum liklihood estimate\n",
    "#Return estimated dof & cdf for the time-series\n",
    "def fit_tdist_logMLE(input_ts, dof):\n",
    "   \n",
    "   #Number of risk factors\n",
    "   num_rf=input_ts.shape[0]\n",
    "   len_ts=input_ts.shape[1]\n",
    "    \n",
    "   #Output array to store log LE by dof and fitted dof\n",
    "   mle_dof=np.zeros((num_rf,len(dof)))\n",
    "   fitted_nu=np.zeros(num_rf) \n",
    "\n",
    "   #Construct time flexible probabilities\n",
    "   fp=flex_prob(len_ts/2,len_ts)\n",
    "\n",
    "   #For each return series, construct MLE arrays \n",
    "   for j in np.arange(0,num_rf):\n",
    "        ret_ts=input_ts[:][j]\n",
    "        fp_mean=np.dot(ret_ts,fp)\n",
    "        fp_var=np.dot((ret_ts-fp_mean)**2, fp)\n",
    "        print(fp_mean)\n",
    "        print(np.sqrt(fp_var))\n",
    "                      \n",
    "        #For each degree of freedom, find log LE   \n",
    "        for k in np.arange(0, len(dof)):\n",
    "           if(dof[k] > 2): \n",
    "             t_dist=stats.t(dof[k], loc=fp_mean, scale=np.sqrt((dof[k]-2)/dof[k])*fp_var) \n",
    "           else:\n",
    "             t_dist=stats.t(dof[k], loc=fp_mean)\n",
    "           mle_dof[j][k]=np.sum([t_dist.logpdf(ret) for ret in ret_ts])\n",
    "     \n",
    "        #Find max LE \n",
    "        max_idx=np.argsort(mle_dof[j])[::-1][0]\n",
    "        fitted_nu[j]=max_idx\n",
    "   \n",
    "   return fitted_nu"
   ]
  },
  {
   "cell_type": "code",
   "execution_count": 1,
   "id": "5839f7ff",
   "metadata": {},
   "outputs": [],
   "source": [
    "#Returns cdf based on the input degrees of freedom\n",
    "def get_cdf_tdist(input_ts, nu):\n",
    "            \n",
    "     #Output array for uniform variates\n",
    "     uniform_variates=np.zeros((input_ts.shape[0], input_ts.shape[1]))   \n",
    "    \n",
    "     #Loop through the risk factors\n",
    "     for j in np.arange(0, input_ts.shape[0]):\n",
    "        #Create distribution with given dof\n",
    "        fitted_t_dist=stats.t(nu[j]) \n",
    "        uniform_variates[j][:]=fitted_t_dist.cdf(input_ts[j][:])\n",
    "    \n",
    "     return uniform_variates"
   ]
  },
  {
   "cell_type": "code",
   "execution_count": null,
   "id": "0acd2d5b",
   "metadata": {},
   "outputs": [],
   "source": [
    "#Function to get flexible probabilities\n",
    "def flex_prob(half_life, num_days):\n",
    "    \n",
    "    time_flex_prob= np.exp((-np.log(2)/half_life)*np.arange(num_days,0,-1))\n",
    "    scale_to_one=1/np.sum(time_flex_prob)\n",
    "     \n",
    "    return scale_to_one*time_flex_prob"
   ]
  },
  {
   "cell_type": "code",
   "execution_count": null,
   "id": "003be613",
   "metadata": {},
   "outputs": [],
   "source": [
    "#Generate any distribution invariants using uniform residuals\n",
    "def get_inverse_cdf(uniform_variates):\n",
    "    \n",
    "     #Initiate matrix of t-distribution residuals with dof=4\n",
    "     t_dof4_variates=np.zeros((uniform_variates.shape[0], uniform_variates.shape[1]))\n",
    "    \n",
    "     for count in np.arange(0, uniform_variates.shape[0]):\n",
    "        #Get t-distribution invariants with dof=4\n",
    "        t_dist_df4=stats.t(4)\n",
    "        t_dof4_variates[count][:]=t_dist_df4.ppf(uniform_variates[count])\n",
    "        \n",
    "     return t_dof4_variates"
   ]
  }
 ],
 "metadata": {
  "kernelspec": {
   "display_name": "Python 3 (ipykernel)",
   "language": "python",
   "name": "python3"
  },
  "language_info": {
   "codemirror_mode": {
    "name": "ipython",
    "version": 3
   },
   "file_extension": ".py",
   "mimetype": "text/x-python",
   "name": "python",
   "nbconvert_exporter": "python",
   "pygments_lexer": "ipython3",
   "version": "3.11.5"
  }
 },
 "nbformat": 4,
 "nbformat_minor": 5
}
